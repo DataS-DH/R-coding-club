{
 "cells": [
  {
   "cell_type": "markdown",
   "id": "7d401582",
   "metadata": {},
   "source": [
    "# Code QA and Best Practice\n",
    "\n",
    "Guidance on quality assurance of code for analysis and research has been developed by the government analysis function and GSS, found here: \n",
    "https://best-practice-and-impact.github.io/qa-of-code-guidance/intro.html <br />\n",
    "The aim of this jupyter notebook is to demonstrate practical examples of these tips for best practice. The examples are in python, but the principles are equally applicable to R and other languages\n"
   ]
  },
  {
   "cell_type": "markdown",
   "id": "10332058",
   "metadata": {},
   "source": [
    "## The Main Ideas\n",
    "\n",
    "When you review code, like other analysis, you need to check that it's doing the right thing and producing the correct output. BUT another important aspect is that the code also needs to be clear and easy to understand to make it easier to spot mistakes and test, update or reproduce the code/analysis."
   ]
  },
  {
   "cell_type": "markdown",
   "id": "2938373f",
   "metadata": {},
   "source": [
    "## Some Example Code\n",
    "\n",
    "This code will load, clean and plot sunspot number data.\n",
    "\n",
    "### A bad example\n",
    "    "
   ]
  },
  {
   "cell_type": "code",
   "execution_count": null,
   "id": "8019455d",
   "metadata": {},
   "outputs": [],
   "source": [
    "from pandas import *\n",
    "\n",
    "df1=read_csv('Data/SN_d_tot_V2.0_18.csv',sep=';',names=['Year','Month','Day','Fraction_Of_Year','Daily_Total_Sunspot_No','Daily_St_Dev_Sunspot_No','No_Of_Obs','Definitive_Or_Provisional'])\n",
    "df1.columns=df1.columns.str.lower()\n",
    "df1=df1[['year','month','day','daily_total_sunspot_no','no_of_obs']]\n",
    "df1=df1.assign(datetime=to_datetime(df1[['year','month','day']]))\n",
    "df1=df1[df1['daily_total_sunspot_no'].notnull()]\n",
    "df1=df1[~(df1['daily_total_sunspot_no']==-1)]\n",
    "\n",
    "df2=read_csv('Data/SN_d_tot_V2.0_19.csv',sep=';',names=['Year','Month','Day','Fraction_Of_Year','Daily_Total_Sunspot_No','Daily_St_Dev_Sunspot_No','No_Of_Obs','Definitive_Or_Provisional'])\n",
    "df2.columns=df2.columns.str.lower()\n",
    "df2=df2[['year','month','day','daily_total_sunspot_no','no_of_obs']]\n",
    "df2=df2.assign(datetime=to_datetime(df2[['year','month','day']]))\n",
    "df2=df2[df2['daily_total_sunspot_no'].notnull()]\n",
    "df2=df2[(df2['daily_total_sunspot_no']==-1)]\n",
    "\n",
    "df3=read_csv('Data/SN_d_tot_V2.0_20.csv',sep=';',names=['Year','Month','Day','Fraction_Of_Year','Daily_Total_Sunspot_No','Daily_St_Dev_Sunspot_No','No_Of_Obs','Definitive_Or_Provisional'])\n",
    "df3.columns=df3.columns.str.lower()\n",
    "df3=df3[['year','month','day','daily_total_sunspot_no','no_of_obs']]\n",
    "df3=df3.assign(datetime=to_datetime(df3[['year','month','day']]))\n",
    "df3=df3[df3['daily_total_sunspot_no'].notnull()]\n",
    "df3=df3[~(df3['daily_total_sunspot_no']==1)]\n",
    "\n",
    "df=df1.append(df2).append(df3)\n",
    "\n",
    "from plotly.express import *\n",
    "fig=line(df,x=df['datetime'],y=df['daily_total_sunspot_no'])\n",
    "fig.show()"
   ]
  },
  {
   "cell_type": "markdown",
   "id": "4469879e",
   "metadata": {},
   "source": [
    "This code is repetetive, messy and unclear. And it looks like something's gone wrong with the plot! It's difficult to pick out errors or quickly figure out what the code is trying to do. How can we improve it?\n",
    "\n",
    "* Modular Code\n",
    "* Readable Code\n",
    "* Documentation\n",
    "* Version Control\n",
    "* Peer Review\n",
    "\n",
    "### Modular Code\n",
    "\n",
    "https://best-practice-and-impact.github.io/qa-of-code-guidance/modular_code.html <br />\n",
    "https://best-practice-and-impact.github.io/qa-of-code-guidance/project_structure.html\n",
    "\n",
    "Where code is re-used, it can be written as functions instead, so it is reused in a consistent way.\n",
    "The function should be self-contained and not depend on, or affect, variables that haven't been fed in as an argument.\n",
    "It should be simple - multiple smaller functions can be built up to larger functions.\n",
    "\n",
    "For example:"
   ]
  },
  {
   "cell_type": "code",
   "execution_count": null,
   "id": "56148151",
   "metadata": {},
   "outputs": [],
   "source": [
    "def function(df,cols):\n",
    "    \n",
    "    df.columns=df.columns.str.lower()\n",
    "    df = df.drop(df.columns[cols],axis=1)\n",
    "    return df\n",
    "\n",
    "def function2(df, cols):\n",
    "    df =df.assign(datetime=to_datetime(df[cols]))\n",
    "    \n",
    "    return df\n",
    "\n",
    "def function3(df,col):\n",
    "    df=df[df[col].notnull()]\n",
    "    df=df[~(df[col]==-1)]\n",
    "    return df\n",
    "\n",
    "def function4(df,cols1,cols2, col):\n",
    "    \n",
    "    df = function(df,cols1)\n",
    "    df=function2(df,cols2)\n",
    "    df =function3(df,col)\n",
    "    \n",
    "    return df"
   ]
  },
  {
   "cell_type": "code",
   "execution_count": null,
   "id": "7bd50136",
   "metadata": {},
   "outputs": [],
   "source": [
    "from pandas import *\n",
    "\n",
    "df1=read_csv('Data/SN_d_tot_V2.0_18.csv',sep=';',names=['Year','Month','Day','Fraction_Of_Year','Daily_Total_Sunspot_No','Daily_St_Dev_Sunspot_No','No_Of_Obs','Definitive_Or_Provisional'])\n",
    "df1=function4(df1,[3, 5, 7],['year','month','day'],'daily_total_sunspot_no')\n",
    "\n",
    "df2=read_csv('Data/SN_d_tot_V2.0_19.csv',sep=';',names=['Year','Month','Day','Fraction_Of_Year','Daily_Total_Sunspot_No','Daily_St_Dev_Sunspot_No','No_Of_Obs','Definitive_Or_Provisional'])\n",
    "df2=function4(df2,[3, 5, 7],['year','month','day'],'daily_total_sunspot_no')\n",
    "\n",
    "df3=read_csv('Data/SN_d_tot_V2.0_20.csv',sep=';',names=['Year','Month','Day','Fraction_Of_Year','Daily_Total_Sunspot_No','Daily_St_Dev_Sunspot_No','No_Of_Obs','Definitive_Or_Provisional'])\n",
    "df3=function4(df3,[3, 5, 6],['year','month','day'],'daily_total_sunspot_no')\n",
    "\n",
    "df=df1.append(df2).append(df3)\n",
    "\n",
    "from plotly.express import *\n",
    "fig=line(df,x=df['datetime'],y=df['daily_total_sunspot_no'])\n",
    "fig.show()"
   ]
  },
  {
   "cell_type": "markdown",
   "id": "25219f94",
   "metadata": {},
   "source": [
    "For larger, more complex code, it is best to split the code up into different scripts (files) and modules.\n",
    "A module is a script containing a group of related functions that you use in the main script.\n",
    "Make sure your scripts and modules have descriptive names, ideally without spaces.\n",
    "\n",
    "For example, I would group together the above functions into a module called 'sunspot_data_cleaning_functions.py' and call that module from the main script.\n",
    "I could then write a separate module for functions to perform analysis on the cleaned data."
   ]
  },
  {
   "cell_type": "code",
   "execution_count": null,
   "id": "74242e66",
   "metadata": {},
   "outputs": [],
   "source": [
    "from pandas import *\n",
    "from sunspot_data_cleaning_functions import *\n",
    "\n",
    "df1=read_csv('Data/SN_d_tot_V2.0_18.csv',sep=';',names=['Year','Month','Day','Fraction_Of_Year','Daily_Total_Sunspot_No','Daily_St_Dev_Sunspot_No','No_Of_Obs','Definitive_Or_Provisional'])\n",
    "df1=function4(df1,[3, 5, 7],['year','month','day'],'daily_total_sunspot_no')\n",
    "\n",
    "df2=read_csv('Data/SN_d_tot_V2.0_19.csv',sep=';',names=['Year','Month','Day','Fraction_Of_Year','Daily_Total_Sunspot_No','Daily_St_Dev_Sunspot_No','No_Of_Obs','Definitive_Or_Provisional'])\n",
    "df2=function4(df2,[3, 5, 7],['year','month','day'],'daily_total_sunspot_no')\n",
    "\n",
    "df3=read_csv('Data/SN_d_tot_V2.0_20.csv',sep=';',names=['Year','Month','Day','Fraction_Of_Year','Daily_Total_Sunspot_No','Daily_St_Dev_Sunspot_No','No_Of_Obs','Definitive_Or_Provisional'])\n",
    "df3=function4(df3,[3, 5, 6],['year','month','day'],'daily_total_sunspot_no')\n",
    "\n",
    "df=df1.append(df2).append(df3)\n",
    "\n",
    "from plotly.express import *\n",
    "fig=line(df,x=df['datetime'],y=df['daily_total_sunspot_no'])\n",
    "fig.show()"
   ]
  },
  {
   "cell_type": "markdown",
   "id": "588a0a21",
   "metadata": {},
   "source": [
    "### Readable Code\n",
    "\n",
    "https://best-practice-and-impact.github.io/qa-of-code-guidance/readable_code.html <br />\n",
    "The above example now looks much tidier, but it could still be improved for readability.\n",
    "\n",
    "You should give your functions and variables descriptive names, so its easier to understand what they are doing. BUT these could become unwieldy if too long.\n",
    "Using aliases for calling modules makes it clear which functions come from where.\n",
    "\n",
    "Most coding languages have some sort of style guide with a recommended format to write things. e.g. pep8 for python or tidyverse for R. There are packages available called linters that can automatically check that your code aligns to a particular style, or formatters which check and then automatically fix any code that has diverged from the style.\n",
    "\n",
    "Avoid repeating yourself! I will wrap the above code in a for loop to be certain the function is applied consistently and avoid errors.\n"
   ]
  },
  {
   "cell_type": "code",
   "execution_count": null,
   "id": "37f47c97",
   "metadata": {},
   "outputs": [],
   "source": [
    "import pandas as pd\n",
    "import plotly.express as px\n",
    "import sunspot_data_cleaning_functions as ss_clean\n",
    "\n",
    "data_file_path = 'Data/'\n",
    "file_list = ['SN_d_tot_V2.0_18.csv', 'SN_d_tot_V2.0_19.csv', 'SN_d_tot_V2.0_20.csv']\n",
    "\n",
    "column_names = ['Year', 'Month', 'Day', 'Fraction_Of_Year', 'Daily_Total_Sunspot_No', 'Daily_St_Dev_Sunspot_No',\n",
    "                'No_Of_Obs', 'Definitive_Or_Provisional']\n",
    "cols_to_drop = ['fraction_of_year', 'daily_st_dev_sunspot_no', 'definitive_or_provisional'] \n",
    "datetime_cols = ['year','month','day']\n",
    "not_null_col = 'daily_total_sunspot_no'\n",
    "\n",
    "\n",
    "all_cleaned_data = pd.DataFrame()\n",
    "\n",
    "for file in file_list:\n",
    "    raw_data = pd.read_csv(data_file_path+file, sep = ';', names = column_names)\n",
    "    clean_data = ss_clean.clean_raw_data(raw_data, cols_to_drop, datetime_cols, not_null_col)\n",
    "    all_cleaned_data = all_cleaned_data.append(clean_data)\n",
    "    \n",
    "### previous version\n",
    "# DO NOT RUN\n",
    "# df1=read_csv('SN_d_tot_V2.0_18.csv',sep=';',names=['Year','Month','Day','Fraction_Of_Year','Daily_Total_Sunspot_No','Daily_St_Dev_Sunspot_No','No_Of_Obs','Definitive_Or_Provisional'])\n",
    "# df1=function4(df1,[3, 5, 7],['year','month','day'],'daily_total_sunspot_no')\n",
    "\n",
    "# df2=read_csv('SN_d_tot_V2.0_19.csv',sep=';',names=['Year','Month','Day','Fraction_Of_Year','Daily_Total_Sunspot_No','Daily_St_Dev_Sunspot_No','No_Of_Obs','Definitive_Or_Provisional'])\n",
    "# df2=function4(df2,[3, 5, 7],['year','month','day'],'daily_total_sunspot_no')\n",
    "\n",
    "# df3=read_csv('SN_d_tot_V2.0_20.csv',sep=';',names=['Year','Month','Day','Fraction_Of_Year','Daily_Total_Sunspot_No','Daily_St_Dev_Sunspot_No','No_Of_Obs','Definitive_Or_Provisional'])\n",
    "# df3=function4(df3,[3, 5, 6],['year','month','day'],'daily_total_sunspot_no')\n",
    "\n",
    "# df=df1.append(df2).append(df3)\n",
    "\n",
    "\n",
    "fig = px.line(all_cleaned_data, x = all_cleaned_data['datetime'], y = all_cleaned_data['daily_total_sunspot_no'])\n",
    "fig.show()\n",
    "\n"
   ]
  },
  {
   "cell_type": "code",
   "execution_count": null,
   "id": "960dd445",
   "metadata": {},
   "outputs": [],
   "source": [
    "aggregated_monthly = all_cleaned_data.groupby(['year', 'month']).agg({'daily_total_sunspot_no': 'mean', 'no_of_obs':'sum'}).reset_index()\n",
    "aggregated_monthly.rename(columns = {'daily_total_sunspot_no':'monthly_mean_ssn'}, inplace = True)\n",
    "datetime_cols = ['month', 'year']\n",
    "monthly_ssn = ss_clean.create_datetime_column_flex(aggregated_monthly, datetime_cols)\n",
    "\n",
    "fig = px.line(monthly_ssn, x = monthly_ssn['datetime'], y = monthly_ssn['monthly_mean_ssn'])\n",
    "fig.update_layout(title='Monthly mean sunspot numbers 1818 - 2022',\n",
    "                   xaxis_title='Year',\n",
    "                   yaxis_title='Monthly Mean Sunspot Number')\n",
    "fig.show()"
   ]
  },
  {
   "cell_type": "markdown",
   "id": "c587ff77",
   "metadata": {},
   "source": [
    "### Documentation\n",
    "\n",
    "https://best-practice-and-impact.github.io/qa-of-code-guidance/code_documentation.html <br />\n",
    "https://best-practice-and-impact.github.io/qa-of-code-guidance/project_documentation.html\n",
    "\n",
    "Comment your code! But don't overdo it. Comments describing what is happening may be useful for novice coders, but overkill for others. Comments explaining why you've done something may be more useful for others.\n",
    "\n",
    "Try not to leave commented out unused code in your scripts - it adds confusion and the chance it will be accidentally uncommented and run."
   ]
  },
  {
   "cell_type": "code",
   "execution_count": null,
   "id": "d6a8eef5",
   "metadata": {},
   "outputs": [],
   "source": [
    "# import necessary functions\n",
    "import pandas as pd\n",
    "import plotly.express as px\n",
    "\n",
    "# bespoke module of functions to clean data\n",
    "import sunspot_data_cleaning_functions as ss_clean\n",
    "\n",
    "# define variables\n",
    "data_file_path = 'Data/'\n",
    "file_list = ['SN_d_tot_V2.0_18.csv', 'SN_d_tot_V2.0_19.csv', 'SN_d_tot_V2.0_20.csv']\n",
    "\n",
    "column_names = ['Year', 'Month', 'Day', 'Fraction_Of_Year', 'Daily_Total_Sunspot_No', 'Daily_St_Dev_Sunspot_No',\n",
    "                'No_Of_Obs', 'Definitive_Or_Provisional']\n",
    "cols_to_drop = ['fraction_of_year', 'daily_st_dev_sunspot_no', 'definitive_or_provisional'] \n",
    "# cols_to_drop = raw_data.columns.[[3, 5, 7]] # use this if index instead of column labels\n",
    "datetime_cols = ['year','month','day']\n",
    "not_null_col = 'daily_total_sunspot_no'\n",
    "\n",
    "all_cleaned_data = pd.DataFrame()\n",
    "\n",
    "# load and clean each file, then append into a single df\n",
    "# Used a for loop here to avoid repetition and errors, will also make it easier to update when more data available\n",
    "for file in file_list:\n",
    "    raw_data = pd.read_csv(data_file_path+file, sep = ';', names = column_names)\n",
    "    clean_data = ss_clean.clean_raw_data(raw_data, cols_to_drop, datetime_cols, not_null_col)\n",
    "    all_cleaned_data = all_cleaned_data.append(clean_data)\n",
    "\n",
    "# plot the data\n",
    "fig = px.line(all_cleaned_data, x = all_cleaned_data['datetime'], y = all_cleaned_data['daily_total_sunspot_no'])\n",
    "fig.update_layout(title='Daily Total Sunspot Numbers 1818 - 2022',\n",
    "                   xaxis_title='Year',\n",
    "                   yaxis_title='Daily Total Sunspot Number')\n",
    "fig.show()"
   ]
  },
  {
   "cell_type": "code",
   "execution_count": null,
   "id": "51bf12c7",
   "metadata": {},
   "outputs": [],
   "source": [
    "# Noise in the data makes it hard to views trends - aggregated data by month or year would help\n",
    "\n",
    "import sunspot_analysis_functions as ss_analyse\n",
    "\n",
    "# Use function to calculate monthly averages\n",
    "monthly_ssn = ss_analyse.monthly_averages(all_cleaned_data)\n",
    "\n",
    "# Plot figure\n",
    "fig = px.line(monthly_ssn, x = monthly_ssn['datetime'], y = monthly_ssn['monthly_mean_ssn'])\n",
    "fig.update_layout(title='Monthly mean sunspot numbers 1818 - 2022',\n",
    "                   xaxis_title='Year',\n",
    "                   yaxis_title='Monthly Mean Sunspot Number')\n",
    "fig.show()"
   ]
  },
  {
   "cell_type": "markdown",
   "id": "d5198303",
   "metadata": {},
   "source": [
    "Use docstrings to document your functions. Give a brief description of what the functions does, its inputs (including data types) and outputs. Could also include example usage, common errors, links to other related functions etc. There are standard formats you can use for different languages. Make sure you keep this documentation up to date when you make changes to your code!"
   ]
  },
  {
   "cell_type": "code",
   "execution_count": null,
   "id": "ab1d2377",
   "metadata": {},
   "outputs": [],
   "source": [
    "help(ss_clean.clean_raw_data)"
   ]
  },
  {
   "cell_type": "markdown",
   "id": "068dbb87",
   "metadata": {},
   "source": [
    "You should also provide project documentation for your work so other users can quickly understand what the project is aiming to do and how to get started with running it. <br/>\n",
    "\n",
    "For example, a readme file in a git repo, which should contain a brief statement of intent, a longer description of the problem solved by the project and the approach taken, basic installation/usage instructions including example usage and links to any related projects.\n",
    "\n",
    "A more complex project may also benefit from some basic dependency management and/or config files. \n",
    "Different coding languages have different approaches to dependency management, but it will typically involve creating a requirements.txt file listing all required packages and their version numbers to ensure that other users don't have problems trying to run the code if they have the wrong packages installed.\n",
    "Config files are a separate file containing our variables. If these are kept in a separate script, it is easier to modify these if the requirements change. \n",
    "\n",
    "### Version Control\n",
    "\n",
    "https://best-practice-and-impact.github.io/qa-of-code-guidance/version_control.html <br />\n",
    "Version control is always a good idea, even if you are working on a piece of code alone. It allows you to keep track of changes you've made to code, when and why those changes were made, who by, and make it possible to return to previous versions if needed. The standard way to do this is using git, which is now available in the software centre on DHSC laptops. \n",
    "\n",
    "I'm not going to go into details of how to use git here, other coffee and coding sessions have done this, but here are a few key points: \n",
    "* Remember to write useful commit messages so others know what changes have been made and why. \n",
    "* Work in branches that are then merged into the main branch. The main branch should contain the most up to date working version of the code, so anyone coming to the project fresh would download and use that code.\n",
    "* Use a gitignore file to prevent accidental commit of credentials, sensitive information or data\n",
    "\n",
    "### Peer review\n",
    "\n",
    "https://best-practice-and-impact.github.io/qa-of-code-guidance/peer_review.html <br />\n",
    "This should be the baseline for code QA. Even the smallest piece of work, if its producing output for others, isn't 'done' unless some one else has given it a quick peer review. Here's some top tips:\n",
    "* Can I easily understand what the code does? Hopefully yes if code is modular, readable and well documented!\n",
    "* Does the code fulfil its requirements? You may need to check the outputs (like normal analysis QA)\n",
    "* How easy will it be to alter this code when requirements change?\n",
    "* Can I reproduce these outputs?\n",
    "\n",
    "### A good example"
   ]
  },
  {
   "cell_type": "code",
   "execution_count": null,
   "id": "df3a5e82",
   "metadata": {},
   "outputs": [],
   "source": [
    "# Import modules we need\n",
    "\n",
    "# pandas for data analysis\n",
    "import pandas as pd\n",
    "# plotly for plotting\n",
    "import plotly.express as px\n",
    "# bespoke functions to clean and analyse the data\n",
    "import sunspot_data_cleaning_functions as ss_clean\n",
    "import sunspot_analysis_functions as ss_analyse"
   ]
  },
  {
   "cell_type": "code",
   "execution_count": null,
   "id": "0202a279",
   "metadata": {},
   "outputs": [],
   "source": [
    "# Load the data from the csv into a dataframe\n",
    "\n",
    "# A list of the column names\n",
    "column_names = ['Year', 'Month', 'Day', 'Fraction_Of_Year', 'Daily_Total_Sunspot_No', \n",
    "             'Daily_St_Dev_Sunspot_No', 'No_Of_Obs', 'Definitive_Or_Provisional']\n",
    "\n",
    "data_file_path = 'Data/'\n",
    "file_list = ['SN_d_tot_V2.0_18.csv', 'SN_d_tot_V2.0_19.csv', 'SN_d_tot_V2.0_20.csv']\n",
    "\n",
    "all_cleaned_data = pd.DataFrame()\n",
    "\n",
    "# Run data cleaning on each file and append into a single df\n",
    "\n",
    "cols_to_drop = ['fraction_of_year', 'daily_st_dev_sunspot_no', 'definitive_or_provisional'] \n",
    "datetime_cols = ['year','month','day']\n",
    "not_null_col = 'daily_total_sunspot_no'\n",
    "\n",
    "for file in file_list:\n",
    "    \n",
    "    # Using function read_csv from package pandas (pd)\n",
    "    raw_data = pd.read_csv(data_file_path+file, sep = ';', names = column_names)\n",
    "\n",
    "    # Clean the data\n",
    "    clean_data = ss_clean.clean_raw_data(raw_data, cols_to_drop, datetime_cols, not_null_col)\n",
    "    \n",
    "    # Append cleaned dataframe to the list\n",
    "    all_cleaned_data = all_cleaned_data.append(clean_data)\n"
   ]
  },
  {
   "cell_type": "code",
   "execution_count": null,
   "id": "c8c9b59b",
   "metadata": {},
   "outputs": [],
   "source": [
    "# Plot\n",
    "\n",
    "fig = px.line(all_cleaned_data, x = all_cleaned_data['datetime'], y = all_cleaned_data['daily_total_sunspot_no'])\n",
    "fig.update_layout(title='Daily Total Sunspot Numbers 1818 - 2022',\n",
    "                   xaxis_title='Year',\n",
    "                   yaxis_title='Daily Total Sunspot Number')\n",
    "\n",
    "# display the figure\n",
    "fig.show()"
   ]
  },
  {
   "cell_type": "code",
   "execution_count": null,
   "id": "456c2554",
   "metadata": {},
   "outputs": [],
   "source": [
    "# Further analysis - smooth out these results to view trends better\n",
    "\n",
    "# Aggregate by month and year\n",
    "monthly_ssn = ss_analyse.aggregated_average_ssn(all_cleaned_data, ['year', 'month'], 'monthly_mean_ssn')\n",
    "yearly_ssn = ss_analyse.aggregated_average_ssn(all_cleaned_data, ['year'], 'yearly_mean_ssn')"
   ]
  },
  {
   "cell_type": "code",
   "execution_count": null,
   "id": "664d73cd",
   "metadata": {},
   "outputs": [],
   "source": [
    "help(ss_analyse.aggregated_average_ssn)"
   ]
  },
  {
   "cell_type": "code",
   "execution_count": null,
   "id": "5874b95b",
   "metadata": {},
   "outputs": [],
   "source": [
    "# Plot monthly\n",
    "fig = px.line(monthly_ssn, x = monthly_ssn['datetime'], y = monthly_ssn['monthly_mean_ssn'])\n",
    "fig.update_layout(title='Monthly mean sunspot numbers 1818 - 2022',\n",
    "                   xaxis_title='Year',\n",
    "                   yaxis_title='Monthly Mean Sunspot Number')\n",
    "\n",
    "# display the figure\n",
    "fig.show()"
   ]
  },
  {
   "cell_type": "code",
   "execution_count": null,
   "id": "2fc38835",
   "metadata": {},
   "outputs": [],
   "source": [
    "# Plot yearly\n",
    "fig = px.line(yearly_ssn, x = yearly_ssn['datetime'], y = yearly_ssn['yearly_mean_ssn'])\n",
    "fig.update_layout(title='Yearly mean sunspot numbers 1818 - 2022',\n",
    "                   xaxis_title='Year',\n",
    "                   yaxis_title='Yearly Mean Sunspot Number')\n",
    "\n",
    "# display the figure\n",
    "fig.show()"
   ]
  }
 ],
 "metadata": {
  "kernelspec": {
   "display_name": "conda_python3",
   "language": "python",
   "name": "conda_python3"
  },
  "language_info": {
   "codemirror_mode": {
    "name": "ipython",
    "version": 3
   },
   "file_extension": ".py",
   "mimetype": "text/x-python",
   "name": "python",
   "nbconvert_exporter": "python",
   "pygments_lexer": "ipython3",
   "version": "3.6.13"
  }
 },
 "nbformat": 4,
 "nbformat_minor": 5
}
