{
 "cells": [
  {
   "cell_type": "markdown",
   "id": "5c5a7523",
   "metadata": {},
   "source": [
    "# Summary Statistics & Aggregation"
   ]
  },
  {
   "cell_type": "code",
   "execution_count": null,
   "id": "91497be8",
   "metadata": {},
   "outputs": [],
   "source": [
    "import pandas as pd"
   ]
  },
  {
   "cell_type": "code",
   "execution_count": null,
   "id": "8d6f2735",
   "metadata": {},
   "outputs": [],
   "source": [
    "animals = pd.read_csv(\"data/animals.csv\")\n",
    "titanic = pd.read_excel(\"data/titanic.xlsx\")"
   ]
  },
  {
   "cell_type": "code",
   "execution_count": null,
   "id": "6b03ae0c",
   "metadata": {},
   "outputs": [],
   "source": [
    "%whos"
   ]
  },
  {
   "cell_type": "markdown",
   "id": "15bd4e14",
   "metadata": {},
   "source": [
    "<hr style=\"width:70%;height:4px;border-width:0;color:gray;background-color:#003d59; opacity:0.75\"> "
   ]
  },
  {
   "cell_type": "markdown",
   "id": "33cad02e",
   "metadata": {},
   "source": [
    "## Overall Descriptive Statistics\n",
    "\n",
    "Pandas has an inbuilt method to get basic descriptive statistics, this is `.describe()`"
   ]
  },
  {
   "cell_type": "code",
   "execution_count": null,
   "id": "21e1584c",
   "metadata": {},
   "outputs": [],
   "source": [
    "titanic.head()"
   ]
  },
  {
   "cell_type": "code",
   "execution_count": null,
   "id": "dd155feb",
   "metadata": {},
   "outputs": [],
   "source": [
    "titanic.describe()"
   ]
  },
  {
   "cell_type": "code",
   "execution_count": null,
   "id": "c3c0fd68",
   "metadata": {},
   "outputs": [],
   "source": [
    "titanic[\"fare\"].describe()"
   ]
  },
  {
   "cell_type": "markdown",
   "id": "3b749f82",
   "metadata": {},
   "source": [
    "<hr style=\"width:70%;height:4px;border-width:0;color:gray;background-color:#003d59; opacity:0.75\"> "
   ]
  },
  {
   "cell_type": "markdown",
   "id": "4375cd78",
   "metadata": {},
   "source": [
    "## Range\n",
    "\n",
    "We can also access these summary statistics individually. In most cases the name of the method is the same as the summary statistic.\n",
    "\n",
    "We can use `.min()` to return the minimum value in a column."
   ]
  },
  {
   "cell_type": "code",
   "execution_count": null,
   "id": "cd8c37c6",
   "metadata": {},
   "outputs": [],
   "source": [
    "titanic[\"fare\"].min()"
   ]
  },
  {
   "cell_type": "markdown",
   "id": "b4a9a647",
   "metadata": {},
   "source": [
    "This also works for object (text) columns."
   ]
  },
  {
   "cell_type": "code",
   "execution_count": null,
   "id": "1fd4dddc",
   "metadata": {},
   "outputs": [],
   "source": [
    "titanic[\"name\"].min()"
   ]
  },
  {
   "cell_type": "code",
   "execution_count": null,
   "id": "4b5ef6d5",
   "metadata": {},
   "outputs": [],
   "source": [
    "titanic[\"fare\"].max()"
   ]
  },
  {
   "cell_type": "code",
   "execution_count": null,
   "id": "db31b392",
   "metadata": {},
   "outputs": [],
   "source": [
    "titanic[\"name\"].max()"
   ]
  },
  {
   "cell_type": "markdown",
   "id": "aedfe49c",
   "metadata": {},
   "source": [
    "Something important to note here is that `pandas` effectively assigns a value to each letter. \n",
    "\n",
    "This goes A-Z and **then** a-z.\n",
    "\n",
    "A lower case \"a\" is treated as coming **after** a capital \"Z\" in Python."
   ]
  },
  {
   "cell_type": "code",
   "execution_count": null,
   "id": "c0559096",
   "metadata": {},
   "outputs": [],
   "source": [
    "titanic[\"name\"].str.lower().max()"
   ]
  },
  {
   "cell_type": "markdown",
   "id": "55b21333",
   "metadata": {},
   "source": [
    "We can use `.quantile()` to find information at different points of our data.\n",
    "\n",
    "Our parameter is `q= ` and then a decimal number.\n",
    "\n",
    "If we don't specify this the default behaviour is `0.5`."
   ]
  },
  {
   "cell_type": "code",
   "execution_count": null,
   "id": "f5509862",
   "metadata": {},
   "outputs": [],
   "source": [
    "titanic[\"fare\"].quantile(q=0.25)"
   ]
  },
  {
   "cell_type": "code",
   "execution_count": null,
   "id": "a27cdce1",
   "metadata": {},
   "outputs": [],
   "source": [
    "titanic[\"fare\"].quantile(q=[0, 0.25, 0.5, 0.75, 1])"
   ]
  },
  {
   "cell_type": "markdown",
   "id": "7516ff42",
   "metadata": {},
   "source": [
    "<hr style=\"width:70%;height:4px;border-width:0;color:gray;background-color:#003d59; opacity:0.75\"> "
   ]
  },
  {
   "cell_type": "markdown",
   "id": "f9dfb0ed",
   "metadata": {},
   "source": [
    "## Averages\n"
   ]
  },
  {
   "cell_type": "code",
   "execution_count": null,
   "id": "b13eaa7f",
   "metadata": {},
   "outputs": [],
   "source": [
    "titanic[\"fare\"].mean()"
   ]
  },
  {
   "cell_type": "code",
   "execution_count": null,
   "id": "51986a85",
   "metadata": {},
   "outputs": [],
   "source": [
    "titanic[\"fare\"].median()"
   ]
  },
  {
   "cell_type": "code",
   "execution_count": null,
   "id": "0f6a4565",
   "metadata": {},
   "outputs": [],
   "source": [
    "titanic[\"fare\"].mode()"
   ]
  },
  {
   "cell_type": "code",
   "execution_count": null,
   "id": "832557d1",
   "metadata": {},
   "outputs": [],
   "source": [
    "titanic[\"name\"].mode()"
   ]
  },
  {
   "cell_type": "markdown",
   "id": "dda233b9",
   "metadata": {},
   "source": [
    "<hr style=\"width:70%;height:4px;border-width:0;color:gray;background-color:#003d59; opacity:0.75\"> "
   ]
  },
  {
   "cell_type": "markdown",
   "id": "f0d927c4",
   "metadata": {},
   "source": [
    "## Spread"
   ]
  },
  {
   "cell_type": "code",
   "execution_count": null,
   "id": "65476923",
   "metadata": {},
   "outputs": [],
   "source": [
    "titanic[\"fare\"].std()"
   ]
  },
  {
   "cell_type": "code",
   "execution_count": null,
   "id": "6d18be7b",
   "metadata": {},
   "outputs": [],
   "source": [
    "titanic[\"fare\"].var()"
   ]
  },
  {
   "cell_type": "markdown",
   "id": "d40c3d86",
   "metadata": {},
   "source": [
    "<hr style=\"width:70%;height:4px;border-width:0;color:gray;background-color:#003d59; opacity:0.75\"> "
   ]
  },
  {
   "cell_type": "markdown",
   "id": "6116c359",
   "metadata": {},
   "source": [
    "## Counting Values"
   ]
  },
  {
   "cell_type": "code",
   "execution_count": null,
   "id": "c99ca4a7",
   "metadata": {},
   "outputs": [],
   "source": [
    "titanic[\"embarked\"].count()"
   ]
  },
  {
   "cell_type": "code",
   "execution_count": null,
   "id": "b3db046c",
   "metadata": {},
   "outputs": [],
   "source": [
    "titanic[\"age\"].isnull().tail()"
   ]
  },
  {
   "cell_type": "code",
   "execution_count": null,
   "id": "b3e80858",
   "metadata": {},
   "outputs": [],
   "source": [
    "titanic[\"age\"].tail()"
   ]
  },
  {
   "cell_type": "markdown",
   "id": "201b3e34",
   "metadata": {},
   "source": [
    "### Null value count"
   ]
  },
  {
   "cell_type": "code",
   "execution_count": null,
   "id": "a5e07b86",
   "metadata": {},
   "outputs": [],
   "source": [
    "titanic[\"age\"].isnull().sum()"
   ]
  },
  {
   "cell_type": "markdown",
   "id": "d41cbb2d",
   "metadata": {},
   "source": [
    "### Value count"
   ]
  },
  {
   "cell_type": "code",
   "execution_count": null,
   "id": "0c3bf91d",
   "metadata": {},
   "outputs": [],
   "source": [
    "titanic[\"sex\"].value_counts()"
   ]
  },
  {
   "cell_type": "markdown",
   "id": "be055ab9",
   "metadata": {},
   "source": [
    "<hr style=\"width:70%;height:4px;border-width:0;color:gray;background-color:#003d59; opacity:0.75\"> "
   ]
  },
  {
   "cell_type": "markdown",
   "id": "ff108310",
   "metadata": {},
   "source": [
    "## Sum"
   ]
  },
  {
   "cell_type": "code",
   "execution_count": null,
   "id": "cbd07610",
   "metadata": {},
   "outputs": [],
   "source": [
    "titanic[\"fare\"].sum()"
   ]
  },
  {
   "cell_type": "markdown",
   "id": "6c5b1d81",
   "metadata": {},
   "source": [
    "## Unique values"
   ]
  },
  {
   "cell_type": "code",
   "execution_count": null,
   "id": "3196394d",
   "metadata": {},
   "outputs": [],
   "source": [
    "titanic[\"boat\"].unique()"
   ]
  },
  {
   "cell_type": "code",
   "execution_count": null,
   "id": "31059522",
   "metadata": {},
   "outputs": [],
   "source": [
    "titanic[\"boat\"].nunique()"
   ]
  },
  {
   "cell_type": "markdown",
   "id": "fcb87a2d",
   "metadata": {},
   "source": [
    "<hr style=\"width:70%;height:4px;border-width:0;color:gray;background-color:#003d59; opacity:0.75\"> "
   ]
  },
  {
   "cell_type": "markdown",
   "id": "aa85e152",
   "metadata": {},
   "source": [
    "## Summary \n",
    "\n",
    "In this chapter we’ve explored:\n",
    "* Overall descriptive statistics\n",
    "* Range\n",
    "* Averages\n",
    "* Spread\n",
    "* Counting Values\n",
    "* Other general summary statistics"
   ]
  },
  {
   "cell_type": "markdown",
   "id": "543f81c5",
   "metadata": {},
   "source": [
    "## Exercise \n",
    "\n",
    "How old is the oldest passenger in the titanic dataframe? "
   ]
  },
  {
   "cell_type": "code",
   "execution_count": null,
   "id": "54551f4c",
   "metadata": {},
   "outputs": [],
   "source": []
  },
  {
   "cell_type": "markdown",
   "id": "3aafa24d",
   "metadata": {},
   "source": [
    "Find the standard deviation of the `age` column"
   ]
  },
  {
   "cell_type": "code",
   "execution_count": null,
   "id": "481c56e7",
   "metadata": {},
   "outputs": [],
   "source": []
  },
  {
   "cell_type": "markdown",
   "id": "0bc98b2c",
   "metadata": {},
   "source": [
    "How many passengers were in each class?"
   ]
  },
  {
   "cell_type": "code",
   "execution_count": null,
   "id": "610250c9",
   "metadata": {},
   "outputs": [],
   "source": []
  }
 ],
 "metadata": {
  "kernelspec": {
   "display_name": "Python 3 (ipykernel)",
   "language": "python",
   "name": "python3"
  },
  "language_info": {
   "codemirror_mode": {
    "name": "ipython",
    "version": 3
   },
   "file_extension": ".py",
   "mimetype": "text/x-python",
   "name": "python",
   "nbconvert_exporter": "python",
   "pygments_lexer": "ipython3",
   "version": "3.9.7"
  }
 },
 "nbformat": 4,
 "nbformat_minor": 5
}
