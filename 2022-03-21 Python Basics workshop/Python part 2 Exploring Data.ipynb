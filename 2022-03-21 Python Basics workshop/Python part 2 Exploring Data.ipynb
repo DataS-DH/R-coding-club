{
 "cells": [
  {
   "cell_type": "markdown",
   "id": "c5e77b1f",
   "metadata": {},
   "source": [
    "# Exploring Data \n",
    "\n",
    "* Reading CSV Files\n",
    "* Reading Excel Files\n",
    "* Exporting Data\n",
    "\n",
    "* Exploring our Data\n",
    "* Sorting our Data\n",
    "* Selecting our Data\n",
    "* Filtering our Data: Single condition, Multiple conditions, filtering shortcuts \n",
    "\n",
    "* Deriving new data\n",
    "* Creating new columns of Data\n",
    "* Merging Data\n",
    "\n",
    "\n",
    "### Script Structure\n",
    "\n",
    "Scripts should be read from top to bottom.\n",
    "\n",
    "Packages and data should be loaded at the top of the script – this ensures that they’re available to use right from the start of your work.\n",
    "\n",
    "This also makes your code easier to read. \n",
    "\n",
    "Your code should also include explanatory comments, as well as following the naming conventions we talked about.\n",
    "\n",
    "You may understand your code now, but will you still understand it 6 months down the line – or will your co-worker understand it when you leave?"
   ]
  },
  {
   "cell_type": "code",
   "execution_count": 50,
   "id": "00b30e6f",
   "metadata": {},
   "outputs": [],
   "source": [
    "# Import Pandas into this cell\n",
    "\n",
    "import pandas as pd"
   ]
  },
  {
   "cell_type": "markdown",
   "id": "2a1eaf4c",
   "metadata": {},
   "source": [
    "### Setting Working Directories \n",
    "\n",
    "The working directory is the place where Python automatically looks for our files.\n",
    "\n",
    "You can check what your working directory is by using the magic command in Jupyter.\n"
   ]
  },
  {
   "cell_type": "code",
   "execution_count": null,
   "id": "11489755",
   "metadata": {},
   "outputs": [],
   "source": [
    "%pwd"
   ]
  },
  {
   "cell_type": "markdown",
   "id": "e6995ab5",
   "metadata": {},
   "source": [
    "This stands for \"Print Working Directory\".\n",
    "\n",
    "Yours will be something like: \n",
    "\n",
    "`'C:\\\\Users\\\\username\\\\Intro_to_Python_<DATE>\\\\notebooks'` \n",
    "\n",
    "You can change your working directory by using the command \n",
    "\n",
    "`%cd ‘filepath_of_new_directory’`\n",
    "\n",
    "e.g\n",
    "\n",
    "`%cd //fa1rvwapxx333/Intro_to_Python/Notebooks`\n",
    "\n",
    "You may want to change your directory if you are working with large data files; or working on a group project from a shared network drive.  Note shared network drives have two forward slashes at the start.\n",
    "\n",
    "You do not need to do this for this course."
   ]
  },
  {
   "cell_type": "markdown",
   "id": "fe4bfb28",
   "metadata": {},
   "source": [
    "### Flat Files\n",
    "\n",
    "Flat files are files like CSV (Comma Separated Values), .txt files etc. \n",
    "\n",
    "To import a .csv file we need to give the data an identifier or a variable name.\n",
    "\n",
    "I’m using one of the read functions from pandas. So I use the `pd` abbreviation before calling my method.\n",
    "\n",
    "My function starts `.read_`\n",
    "\n",
    "Pandas has a variety of `.read_` functions. \n",
    "\n",
    "Place your cursor in the cell below, after the underscore and hit the tab key to see them all. "
   ]
  },
  {
   "cell_type": "code",
   "execution_count": null,
   "id": "bfe7b9a1",
   "metadata": {},
   "outputs": [],
   "source": [
    "animals = pd.read_\n",
    "\n",
    "# Put your cursor after the _ in the line above and hit tab"
   ]
  },
  {
   "cell_type": "code",
   "execution_count": 31,
   "id": "196c81da",
   "metadata": {},
   "outputs": [],
   "source": [
    "animals = pd.read_csv(\"data/animals.csv\")"
   ]
  },
  {
   "cell_type": "markdown",
   "id": "1e8157d9",
   "metadata": {},
   "source": [
    "After importing data it may be useful to check using it appears as a variable using`%whos`. In Spyder you should see the DataFrame appear in your variable explorer."
   ]
  },
  {
   "cell_type": "code",
   "execution_count": 32,
   "id": "c27641ac",
   "metadata": {},
   "outputs": [
    {
     "name": "stdout",
     "output_type": "stream",
     "text": [
      "Variable             Type         Data/Info\n",
      "-------------------------------------------\n",
      "animal_object_cols   DataFrame           IncidentNumber    <...>n[5752 rows x 14 columns]\n",
      "animals              DataFrame           IncidentNumber    <...>n[5752 rows x 19 columns]\n",
      "cat_dog              DataFrame      animal              nam<...>    Cat  Sir Isacc Mewton\n",
      "cost_over_1k         DataFrame           IncidentNumber    <...>n\\n[76 rows x 19 columns]\n",
      "joining_data1        DataFrame                   name anima<...>    Arf Vader    dog    6\n",
      "joining_data2        DataFrame                   name  vacc<...>    Spiderpig        True\n",
      "just_cats            DataFrame      animal              nam<...>    Cat  Sir Isacc Mewton\n",
      "marvel_left          DataFrame                             <...>uly             622648074\n",
      "marvel_right         DataFrame                             <...>Home          2019     90\n",
      "mask                 Series       0       False\\n1       Fa<...>Length: 5752, dtype: bool\n",
      "pd                   module       <module 'pandas' from 'C:<...>es\\\\pandas\\\\__init__.py'>\n",
      "titanic              DataFrame          pclass  survived   <...>n[1309 rows x 14 columns]\n",
      "union_join_data      DataFrame               name    animal<...>   Repecka   chicken    1\n"
     ]
    }
   ],
   "source": [
    "%whos"
   ]
  },
  {
   "cell_type": "code",
   "execution_count": 33,
   "id": "fabf6264",
   "metadata": {},
   "outputs": [
    {
     "data": {
      "text/html": [
       "<div>\n",
       "<style scoped>\n",
       "    .dataframe tbody tr th:only-of-type {\n",
       "        vertical-align: middle;\n",
       "    }\n",
       "\n",
       "    .dataframe tbody tr th {\n",
       "        vertical-align: top;\n",
       "    }\n",
       "\n",
       "    .dataframe thead th {\n",
       "        text-align: right;\n",
       "    }\n",
       "</style>\n",
       "<table border=\"1\" class=\"dataframe\">\n",
       "  <thead>\n",
       "    <tr style=\"text-align: right;\">\n",
       "      <th></th>\n",
       "      <th>IncidentNumber</th>\n",
       "      <th>DateTimeOfCall</th>\n",
       "      <th>CalYear</th>\n",
       "      <th>FinYear</th>\n",
       "      <th>TypeOfIncident</th>\n",
       "      <th>PumpCount</th>\n",
       "      <th>PumpHoursTotal</th>\n",
       "      <th>HourlyNominalCost(£)</th>\n",
       "      <th>IncidentNominalCost(£)</th>\n",
       "      <th>FinalDescription</th>\n",
       "      <th>AnimalGroupParent</th>\n",
       "      <th>PropertyType</th>\n",
       "      <th>SpecialServiceTypeCategory</th>\n",
       "      <th>SpecialServiceType</th>\n",
       "      <th>Borough</th>\n",
       "      <th>StnGroundName</th>\n",
       "      <th>AnimalClass</th>\n",
       "      <th>Code</th>\n",
       "      <th>London</th>\n",
       "    </tr>\n",
       "  </thead>\n",
       "  <tbody>\n",
       "    <tr>\n",
       "      <th>0</th>\n",
       "      <td>139091</td>\n",
       "      <td>01/01/2009 03:01</td>\n",
       "      <td>2009</td>\n",
       "      <td>2008/09</td>\n",
       "      <td>Special Service</td>\n",
       "      <td>1.0</td>\n",
       "      <td>2.0</td>\n",
       "      <td>255</td>\n",
       "      <td>510.0</td>\n",
       "      <td>DOG WITH JAW TRAPPED IN MAGAZINE RACK,B15</td>\n",
       "      <td>Dog</td>\n",
       "      <td>House - single occupancy</td>\n",
       "      <td>Other animal assistance</td>\n",
       "      <td>Animal assistance involving livestock - Other ...</td>\n",
       "      <td>Croydon</td>\n",
       "      <td>Norbury</td>\n",
       "      <td>Mammal</td>\n",
       "      <td>00AH</td>\n",
       "      <td>Outer London</td>\n",
       "    </tr>\n",
       "    <tr>\n",
       "      <th>1</th>\n",
       "      <td>275091</td>\n",
       "      <td>01/01/2009 08:51</td>\n",
       "      <td>2009</td>\n",
       "      <td>2008/09</td>\n",
       "      <td>Special Service</td>\n",
       "      <td>1.0</td>\n",
       "      <td>1.0</td>\n",
       "      <td>255</td>\n",
       "      <td>255.0</td>\n",
       "      <td>ASSIST RSPCA WITH FOX TRAPPED,B15</td>\n",
       "      <td>Fox</td>\n",
       "      <td>Railings</td>\n",
       "      <td>Other animal assistance</td>\n",
       "      <td>Animal assistance involving livestock - Other ...</td>\n",
       "      <td>Croydon</td>\n",
       "      <td>Woodside</td>\n",
       "      <td>Mammal</td>\n",
       "      <td>00AH</td>\n",
       "      <td>Outer London</td>\n",
       "    </tr>\n",
       "    <tr>\n",
       "      <th>2</th>\n",
       "      <td>2075091</td>\n",
       "      <td>04/01/2009 10:07</td>\n",
       "      <td>2009</td>\n",
       "      <td>2008/09</td>\n",
       "      <td>Special Service</td>\n",
       "      <td>1.0</td>\n",
       "      <td>1.0</td>\n",
       "      <td>255</td>\n",
       "      <td>255.0</td>\n",
       "      <td>DOG CAUGHT IN DRAIN,B15</td>\n",
       "      <td>Dog</td>\n",
       "      <td>Pipe or drain</td>\n",
       "      <td>Animal rescue from below ground</td>\n",
       "      <td>Animal rescue from below ground - Domestic pet</td>\n",
       "      <td>Sutton</td>\n",
       "      <td>Wallington</td>\n",
       "      <td>Mammal</td>\n",
       "      <td>00BF</td>\n",
       "      <td>Outer London</td>\n",
       "    </tr>\n",
       "    <tr>\n",
       "      <th>3</th>\n",
       "      <td>2872091</td>\n",
       "      <td>05/01/2009 12:27</td>\n",
       "      <td>2009</td>\n",
       "      <td>2008/09</td>\n",
       "      <td>Special Service</td>\n",
       "      <td>1.0</td>\n",
       "      <td>1.0</td>\n",
       "      <td>255</td>\n",
       "      <td>255.0</td>\n",
       "      <td>HORSE TRAPPED IN LAKE,J17</td>\n",
       "      <td>Horse</td>\n",
       "      <td>Intensive Farming Sheds (chickens, pigs etc)</td>\n",
       "      <td>Animal rescue from water</td>\n",
       "      <td>Animal rescue from water - Farm animal</td>\n",
       "      <td>Hillingdon</td>\n",
       "      <td>Ruislip</td>\n",
       "      <td>Mammal</td>\n",
       "      <td>00AS</td>\n",
       "      <td>Outer London</td>\n",
       "    </tr>\n",
       "    <tr>\n",
       "      <th>4</th>\n",
       "      <td>3553091</td>\n",
       "      <td>06/01/2009 15:23</td>\n",
       "      <td>2009</td>\n",
       "      <td>2008/09</td>\n",
       "      <td>Special Service</td>\n",
       "      <td>1.0</td>\n",
       "      <td>1.0</td>\n",
       "      <td>255</td>\n",
       "      <td>255.0</td>\n",
       "      <td>RABBIT TRAPPED UNDER SOFA,B15</td>\n",
       "      <td>Rabbit</td>\n",
       "      <td>House - single occupancy</td>\n",
       "      <td>Other animal assistance</td>\n",
       "      <td>Animal assistance involving livestock - Other ...</td>\n",
       "      <td>Havering</td>\n",
       "      <td>Harold Hill</td>\n",
       "      <td>Mammal</td>\n",
       "      <td>00AR</td>\n",
       "      <td>Outer London</td>\n",
       "    </tr>\n",
       "  </tbody>\n",
       "</table>\n",
       "</div>"
      ],
      "text/plain": [
       "  IncidentNumber    DateTimeOfCall  CalYear  FinYear   TypeOfIncident  \\\n",
       "0         139091  01/01/2009 03:01     2009  2008/09  Special Service   \n",
       "1         275091  01/01/2009 08:51     2009  2008/09  Special Service   \n",
       "2        2075091  04/01/2009 10:07     2009  2008/09  Special Service   \n",
       "3        2872091  05/01/2009 12:27     2009  2008/09  Special Service   \n",
       "4        3553091  06/01/2009 15:23     2009  2008/09  Special Service   \n",
       "\n",
       "   PumpCount  PumpHoursTotal  HourlyNominalCost(£)  IncidentNominalCost(£)  \\\n",
       "0        1.0             2.0                   255                   510.0   \n",
       "1        1.0             1.0                   255                   255.0   \n",
       "2        1.0             1.0                   255                   255.0   \n",
       "3        1.0             1.0                   255                   255.0   \n",
       "4        1.0             1.0                   255                   255.0   \n",
       "\n",
       "                            FinalDescription AnimalGroupParent  \\\n",
       "0  DOG WITH JAW TRAPPED IN MAGAZINE RACK,B15               Dog   \n",
       "1          ASSIST RSPCA WITH FOX TRAPPED,B15               Fox   \n",
       "2                    DOG CAUGHT IN DRAIN,B15               Dog   \n",
       "3                  HORSE TRAPPED IN LAKE,J17             Horse   \n",
       "4              RABBIT TRAPPED UNDER SOFA,B15            Rabbit   \n",
       "\n",
       "                                    PropertyType  \\\n",
       "0                      House - single occupancy    \n",
       "1                                       Railings   \n",
       "2                                 Pipe or drain    \n",
       "3  Intensive Farming Sheds (chickens, pigs etc)    \n",
       "4                      House - single occupancy    \n",
       "\n",
       "        SpecialServiceTypeCategory  \\\n",
       "0          Other animal assistance   \n",
       "1          Other animal assistance   \n",
       "2  Animal rescue from below ground   \n",
       "3         Animal rescue from water   \n",
       "4          Other animal assistance   \n",
       "\n",
       "                                  SpecialServiceType     Borough  \\\n",
       "0  Animal assistance involving livestock - Other ...     Croydon   \n",
       "1  Animal assistance involving livestock - Other ...     Croydon   \n",
       "2     Animal rescue from below ground - Domestic pet      Sutton   \n",
       "3             Animal rescue from water - Farm animal  Hillingdon   \n",
       "4  Animal assistance involving livestock - Other ...    Havering   \n",
       "\n",
       "  StnGroundName AnimalClass  Code        London  \n",
       "0       Norbury      Mammal  00AH  Outer London  \n",
       "1      Woodside      Mammal  00AH  Outer London  \n",
       "2    Wallington      Mammal  00BF  Outer London  \n",
       "3       Ruislip      Mammal  00AS  Outer London  \n",
       "4   Harold Hill      Mammal  00AR  Outer London  "
      ]
     },
     "execution_count": 33,
     "metadata": {},
     "output_type": "execute_result"
    }
   ],
   "source": [
    "animals.head()"
   ]
  },
  {
   "cell_type": "markdown",
   "id": "94f1a035",
   "metadata": {},
   "source": [
    "We have only specified one argument here; the file path for the data.\n",
    "\n",
    "When we look at the docstring we can see that there are many other arguments we can specify. This includes:\n",
    "\n",
    "* Changing the delimiter\n",
    "* Skipping Rows\n",
    "* Parsing in date columns\n",
    "* Manually specifying additional missing values \n",
    "\n",
    "Have a look at the docstring for `read_csv()`\n"
   ]
  },
  {
   "cell_type": "code",
   "execution_count": 34,
   "id": "ac17d90f",
   "metadata": {},
   "outputs": [
    {
     "name": "stdout",
     "output_type": "stream",
     "text": [
      "Help on function read_csv in module pandas.io.parsers.readers:\n",
      "\n",
      "read_csv(filepath_or_buffer: 'FilePathOrBuffer', sep=<no_default>, delimiter=None, header='infer', names=<no_default>, index_col=None, usecols=None, squeeze=False, prefix=<no_default>, mangle_dupe_cols=True, dtype: 'DtypeArg | None' = None, engine=None, converters=None, true_values=None, false_values=None, skipinitialspace=False, skiprows=None, skipfooter=0, nrows=None, na_values=None, keep_default_na=True, na_filter=True, verbose=False, skip_blank_lines=True, parse_dates=False, infer_datetime_format=False, keep_date_col=False, date_parser=None, dayfirst=False, cache_dates=True, iterator=False, chunksize=None, compression='infer', thousands=None, decimal: 'str' = '.', lineterminator=None, quotechar='\"', quoting=0, doublequote=True, escapechar=None, comment=None, encoding=None, encoding_errors: 'str | None' = 'strict', dialect=None, error_bad_lines=None, warn_bad_lines=None, on_bad_lines=None, delim_whitespace=False, low_memory=True, memory_map=False, float_precision=None, storage_options: 'StorageOptions' = None)\n",
      "    Read a comma-separated values (csv) file into DataFrame.\n",
      "    \n",
      "    Also supports optionally iterating or breaking of the file\n",
      "    into chunks.\n",
      "    \n",
      "    Additional help can be found in the online docs for\n",
      "    `IO Tools <https://pandas.pydata.org/pandas-docs/stable/user_guide/io.html>`_.\n",
      "    \n",
      "    Parameters\n",
      "    ----------\n",
      "    filepath_or_buffer : str, path object or file-like object\n",
      "        Any valid string path is acceptable. The string could be a URL. Valid\n",
      "        URL schemes include http, ftp, s3, gs, and file. For file URLs, a host is\n",
      "        expected. A local file could be: file://localhost/path/to/table.csv.\n",
      "    \n",
      "        If you want to pass in a path object, pandas accepts any ``os.PathLike``.\n",
      "    \n",
      "        By file-like object, we refer to objects with a ``read()`` method, such as\n",
      "        a file handle (e.g. via builtin ``open`` function) or ``StringIO``.\n",
      "    sep : str, default ','\n",
      "        Delimiter to use. If sep is None, the C engine cannot automatically detect\n",
      "        the separator, but the Python parsing engine can, meaning the latter will\n",
      "        be used and automatically detect the separator by Python's builtin sniffer\n",
      "        tool, ``csv.Sniffer``. In addition, separators longer than 1 character and\n",
      "        different from ``'\\s+'`` will be interpreted as regular expressions and\n",
      "        will also force the use of the Python parsing engine. Note that regex\n",
      "        delimiters are prone to ignoring quoted data. Regex example: ``'\\r\\t'``.\n",
      "    delimiter : str, default ``None``\n",
      "        Alias for sep.\n",
      "    header : int, list of int, default 'infer'\n",
      "        Row number(s) to use as the column names, and the start of the\n",
      "        data.  Default behavior is to infer the column names: if no names\n",
      "        are passed the behavior is identical to ``header=0`` and column\n",
      "        names are inferred from the first line of the file, if column\n",
      "        names are passed explicitly then the behavior is identical to\n",
      "        ``header=None``. Explicitly pass ``header=0`` to be able to\n",
      "        replace existing names. The header can be a list of integers that\n",
      "        specify row locations for a multi-index on the columns\n",
      "        e.g. [0,1,3]. Intervening rows that are not specified will be\n",
      "        skipped (e.g. 2 in this example is skipped). Note that this\n",
      "        parameter ignores commented lines and empty lines if\n",
      "        ``skip_blank_lines=True``, so ``header=0`` denotes the first line of\n",
      "        data rather than the first line of the file.\n",
      "    names : array-like, optional\n",
      "        List of column names to use. If the file contains a header row,\n",
      "        then you should explicitly pass ``header=0`` to override the column names.\n",
      "        Duplicates in this list are not allowed.\n",
      "    index_col : int, str, sequence of int / str, or False, default ``None``\n",
      "      Column(s) to use as the row labels of the ``DataFrame``, either given as\n",
      "      string name or column index. If a sequence of int / str is given, a\n",
      "      MultiIndex is used.\n",
      "    \n",
      "      Note: ``index_col=False`` can be used to force pandas to *not* use the first\n",
      "      column as the index, e.g. when you have a malformed file with delimiters at\n",
      "      the end of each line.\n",
      "    usecols : list-like or callable, optional\n",
      "        Return a subset of the columns. If list-like, all elements must either\n",
      "        be positional (i.e. integer indices into the document columns) or strings\n",
      "        that correspond to column names provided either by the user in `names` or\n",
      "        inferred from the document header row(s). For example, a valid list-like\n",
      "        `usecols` parameter would be ``[0, 1, 2]`` or ``['foo', 'bar', 'baz']``.\n",
      "        Element order is ignored, so ``usecols=[0, 1]`` is the same as ``[1, 0]``.\n",
      "        To instantiate a DataFrame from ``data`` with element order preserved use\n",
      "        ``pd.read_csv(data, usecols=['foo', 'bar'])[['foo', 'bar']]`` for columns\n",
      "        in ``['foo', 'bar']`` order or\n",
      "        ``pd.read_csv(data, usecols=['foo', 'bar'])[['bar', 'foo']]``\n",
      "        for ``['bar', 'foo']`` order.\n",
      "    \n",
      "        If callable, the callable function will be evaluated against the column\n",
      "        names, returning names where the callable function evaluates to True. An\n",
      "        example of a valid callable argument would be ``lambda x: x.upper() in\n",
      "        ['AAA', 'BBB', 'DDD']``. Using this parameter results in much faster\n",
      "        parsing time and lower memory usage.\n",
      "    squeeze : bool, default False\n",
      "        If the parsed data only contains one column then return a Series.\n",
      "    prefix : str, optional\n",
      "        Prefix to add to column numbers when no header, e.g. 'X' for X0, X1, ...\n",
      "    mangle_dupe_cols : bool, default True\n",
      "        Duplicate columns will be specified as 'X', 'X.1', ...'X.N', rather than\n",
      "        'X'...'X'. Passing in False will cause data to be overwritten if there\n",
      "        are duplicate names in the columns.\n",
      "    dtype : Type name or dict of column -> type, optional\n",
      "        Data type for data or columns. E.g. {'a': np.float64, 'b': np.int32,\n",
      "        'c': 'Int64'}\n",
      "        Use `str` or `object` together with suitable `na_values` settings\n",
      "        to preserve and not interpret dtype.\n",
      "        If converters are specified, they will be applied INSTEAD\n",
      "        of dtype conversion.\n",
      "    engine : {'c', 'python'}, optional\n",
      "        Parser engine to use. The C engine is faster while the python engine is\n",
      "        currently more feature-complete.\n",
      "    converters : dict, optional\n",
      "        Dict of functions for converting values in certain columns. Keys can either\n",
      "        be integers or column labels.\n",
      "    true_values : list, optional\n",
      "        Values to consider as True.\n",
      "    false_values : list, optional\n",
      "        Values to consider as False.\n",
      "    skipinitialspace : bool, default False\n",
      "        Skip spaces after delimiter.\n",
      "    skiprows : list-like, int or callable, optional\n",
      "        Line numbers to skip (0-indexed) or number of lines to skip (int)\n",
      "        at the start of the file.\n",
      "    \n",
      "        If callable, the callable function will be evaluated against the row\n",
      "        indices, returning True if the row should be skipped and False otherwise.\n",
      "        An example of a valid callable argument would be ``lambda x: x in [0, 2]``.\n",
      "    skipfooter : int, default 0\n",
      "        Number of lines at bottom of file to skip (Unsupported with engine='c').\n",
      "    nrows : int, optional\n",
      "        Number of rows of file to read. Useful for reading pieces of large files.\n",
      "    na_values : scalar, str, list-like, or dict, optional\n",
      "        Additional strings to recognize as NA/NaN. If dict passed, specific\n",
      "        per-column NA values.  By default the following values are interpreted as\n",
      "        NaN: '', '#N/A', '#N/A N/A', '#NA', '-1.#IND', '-1.#QNAN', '-NaN', '-nan',\n",
      "        '1.#IND', '1.#QNAN', '<NA>', 'N/A', 'NA', 'NULL', 'NaN', 'n/a',\n",
      "        'nan', 'null'.\n",
      "    keep_default_na : bool, default True\n",
      "        Whether or not to include the default NaN values when parsing the data.\n",
      "        Depending on whether `na_values` is passed in, the behavior is as follows:\n",
      "    \n",
      "        * If `keep_default_na` is True, and `na_values` are specified, `na_values`\n",
      "          is appended to the default NaN values used for parsing.\n",
      "        * If `keep_default_na` is True, and `na_values` are not specified, only\n",
      "          the default NaN values are used for parsing.\n",
      "        * If `keep_default_na` is False, and `na_values` are specified, only\n",
      "          the NaN values specified `na_values` are used for parsing.\n",
      "        * If `keep_default_na` is False, and `na_values` are not specified, no\n",
      "          strings will be parsed as NaN.\n",
      "    \n",
      "        Note that if `na_filter` is passed in as False, the `keep_default_na` and\n",
      "        `na_values` parameters will be ignored.\n",
      "    na_filter : bool, default True\n",
      "        Detect missing value markers (empty strings and the value of na_values). In\n",
      "        data without any NAs, passing na_filter=False can improve the performance\n",
      "        of reading a large file.\n",
      "    verbose : bool, default False\n",
      "        Indicate number of NA values placed in non-numeric columns.\n",
      "    skip_blank_lines : bool, default True\n",
      "        If True, skip over blank lines rather than interpreting as NaN values.\n",
      "    parse_dates : bool or list of int or names or list of lists or dict, default False\n",
      "        The behavior is as follows:\n",
      "    \n",
      "        * boolean. If True -> try parsing the index.\n",
      "        * list of int or names. e.g. If [1, 2, 3] -> try parsing columns 1, 2, 3\n",
      "          each as a separate date column.\n",
      "        * list of lists. e.g.  If [[1, 3]] -> combine columns 1 and 3 and parse as\n",
      "          a single date column.\n",
      "        * dict, e.g. {'foo' : [1, 3]} -> parse columns 1, 3 as date and call\n",
      "          result 'foo'\n",
      "    \n",
      "        If a column or index cannot be represented as an array of datetimes,\n",
      "        say because of an unparsable value or a mixture of timezones, the column\n",
      "        or index will be returned unaltered as an object data type. For\n",
      "        non-standard datetime parsing, use ``pd.to_datetime`` after\n",
      "        ``pd.read_csv``. To parse an index or column with a mixture of timezones,\n",
      "        specify ``date_parser`` to be a partially-applied\n",
      "        :func:`pandas.to_datetime` with ``utc=True``. See\n",
      "        :ref:`io.csv.mixed_timezones` for more.\n",
      "    \n",
      "        Note: A fast-path exists for iso8601-formatted dates.\n",
      "    infer_datetime_format : bool, default False\n",
      "        If True and `parse_dates` is enabled, pandas will attempt to infer the\n",
      "        format of the datetime strings in the columns, and if it can be inferred,\n",
      "        switch to a faster method of parsing them. In some cases this can increase\n",
      "        the parsing speed by 5-10x.\n",
      "    keep_date_col : bool, default False\n",
      "        If True and `parse_dates` specifies combining multiple columns then\n",
      "        keep the original columns.\n",
      "    date_parser : function, optional\n",
      "        Function to use for converting a sequence of string columns to an array of\n",
      "        datetime instances. The default uses ``dateutil.parser.parser`` to do the\n",
      "        conversion. Pandas will try to call `date_parser` in three different ways,\n",
      "        advancing to the next if an exception occurs: 1) Pass one or more arrays\n",
      "        (as defined by `parse_dates`) as arguments; 2) concatenate (row-wise) the\n",
      "        string values from the columns defined by `parse_dates` into a single array\n",
      "        and pass that; and 3) call `date_parser` once for each row using one or\n",
      "        more strings (corresponding to the columns defined by `parse_dates`) as\n",
      "        arguments.\n",
      "    dayfirst : bool, default False\n",
      "        DD/MM format dates, international and European format.\n",
      "    cache_dates : bool, default True\n",
      "        If True, use a cache of unique, converted dates to apply the datetime\n",
      "        conversion. May produce significant speed-up when parsing duplicate\n",
      "        date strings, especially ones with timezone offsets.\n",
      "    \n",
      "        .. versionadded:: 0.25.0\n",
      "    iterator : bool, default False\n",
      "        Return TextFileReader object for iteration or getting chunks with\n",
      "        ``get_chunk()``.\n",
      "    \n",
      "        .. versionchanged:: 1.2\n",
      "    \n",
      "           ``TextFileReader`` is a context manager.\n",
      "    chunksize : int, optional\n",
      "        Return TextFileReader object for iteration.\n",
      "        See the `IO Tools docs\n",
      "        <https://pandas.pydata.org/pandas-docs/stable/io.html#io-chunking>`_\n",
      "        for more information on ``iterator`` and ``chunksize``.\n",
      "    \n",
      "        .. versionchanged:: 1.2\n",
      "    \n",
      "           ``TextFileReader`` is a context manager.\n",
      "    compression : {'infer', 'gzip', 'bz2', 'zip', 'xz', None}, default 'infer'\n",
      "        For on-the-fly decompression of on-disk data. If 'infer' and\n",
      "        `filepath_or_buffer` is path-like, then detect compression from the\n",
      "        following extensions: '.gz', '.bz2', '.zip', or '.xz' (otherwise no\n",
      "        decompression). If using 'zip', the ZIP file must contain only one data\n",
      "        file to be read in. Set to None for no decompression.\n",
      "    thousands : str, optional\n",
      "        Thousands separator.\n",
      "    decimal : str, default '.'\n",
      "        Character to recognize as decimal point (e.g. use ',' for European data).\n",
      "    lineterminator : str (length 1), optional\n",
      "        Character to break file into lines. Only valid with C parser.\n",
      "    quotechar : str (length 1), optional\n",
      "        The character used to denote the start and end of a quoted item. Quoted\n",
      "        items can include the delimiter and it will be ignored.\n",
      "    quoting : int or csv.QUOTE_* instance, default 0\n",
      "        Control field quoting behavior per ``csv.QUOTE_*`` constants. Use one of\n",
      "        QUOTE_MINIMAL (0), QUOTE_ALL (1), QUOTE_NONNUMERIC (2) or QUOTE_NONE (3).\n",
      "    doublequote : bool, default ``True``\n",
      "       When quotechar is specified and quoting is not ``QUOTE_NONE``, indicate\n",
      "       whether or not to interpret two consecutive quotechar elements INSIDE a\n",
      "       field as a single ``quotechar`` element.\n",
      "    escapechar : str (length 1), optional\n",
      "        One-character string used to escape other characters.\n",
      "    comment : str, optional\n",
      "        Indicates remainder of line should not be parsed. If found at the beginning\n",
      "        of a line, the line will be ignored altogether. This parameter must be a\n",
      "        single character. Like empty lines (as long as ``skip_blank_lines=True``),\n",
      "        fully commented lines are ignored by the parameter `header` but not by\n",
      "        `skiprows`. For example, if ``comment='#'``, parsing\n",
      "        ``#empty\\na,b,c\\n1,2,3`` with ``header=0`` will result in 'a,b,c' being\n",
      "        treated as the header.\n",
      "    encoding : str, optional\n",
      "        Encoding to use for UTF when reading/writing (ex. 'utf-8'). `List of Python\n",
      "        standard encodings\n",
      "        <https://docs.python.org/3/library/codecs.html#standard-encodings>`_ .\n",
      "    \n",
      "        .. versionchanged:: 1.2\n",
      "    \n",
      "           When ``encoding`` is ``None``, ``errors=\"replace\"`` is passed to\n",
      "           ``open()``. Otherwise, ``errors=\"strict\"`` is passed to ``open()``.\n",
      "           This behavior was previously only the case for ``engine=\"python\"``.\n",
      "    \n",
      "        .. versionchanged:: 1.3.0\n",
      "    \n",
      "           ``encoding_errors`` is a new argument. ``encoding`` has no longer an\n",
      "           influence on how encoding errors are handled.\n",
      "    \n",
      "    encoding_errors : str, optional, default \"strict\"\n",
      "        How encoding errors are treated. `List of possible values\n",
      "        <https://docs.python.org/3/library/codecs.html#error-handlers>`_ .\n",
      "    \n",
      "        .. versionadded:: 1.3.0\n",
      "    \n",
      "    dialect : str or csv.Dialect, optional\n",
      "        If provided, this parameter will override values (default or not) for the\n",
      "        following parameters: `delimiter`, `doublequote`, `escapechar`,\n",
      "        `skipinitialspace`, `quotechar`, and `quoting`. If it is necessary to\n",
      "        override values, a ParserWarning will be issued. See csv.Dialect\n",
      "        documentation for more details.\n",
      "    error_bad_lines : bool, default ``None``\n",
      "        Lines with too many fields (e.g. a csv line with too many commas) will by\n",
      "        default cause an exception to be raised, and no DataFrame will be returned.\n",
      "        If False, then these \"bad lines\" will be dropped from the DataFrame that is\n",
      "        returned.\n",
      "    \n",
      "        .. deprecated:: 1.3.0\n",
      "           The ``on_bad_lines`` parameter should be used instead to specify behavior upon\n",
      "           encountering a bad line instead.\n",
      "    warn_bad_lines : bool, default ``None``\n",
      "        If error_bad_lines is False, and warn_bad_lines is True, a warning for each\n",
      "        \"bad line\" will be output.\n",
      "    \n",
      "        .. deprecated:: 1.3.0\n",
      "           The ``on_bad_lines`` parameter should be used instead to specify behavior upon\n",
      "           encountering a bad line instead.\n",
      "    on_bad_lines : {'error', 'warn', 'skip'}, default 'error'\n",
      "        Specifies what to do upon encountering a bad line (a line with too many fields).\n",
      "        Allowed values are :\n",
      "    \n",
      "            - 'error', raise an Exception when a bad line is encountered.\n",
      "            - 'warn', raise a warning when a bad line is encountered and skip that line.\n",
      "            - 'skip', skip bad lines without raising or warning when they are encountered.\n",
      "    \n",
      "        .. versionadded:: 1.3.0\n",
      "    \n",
      "    delim_whitespace : bool, default False\n",
      "        Specifies whether or not whitespace (e.g. ``' '`` or ``'    '``) will be\n",
      "        used as the sep. Equivalent to setting ``sep='\\s+'``. If this option\n",
      "        is set to True, nothing should be passed in for the ``delimiter``\n",
      "        parameter.\n",
      "    low_memory : bool, default True\n",
      "        Internally process the file in chunks, resulting in lower memory use\n",
      "        while parsing, but possibly mixed type inference.  To ensure no mixed\n",
      "        types either set False, or specify the type with the `dtype` parameter.\n",
      "        Note that the entire file is read into a single DataFrame regardless,\n",
      "        use the `chunksize` or `iterator` parameter to return the data in chunks.\n",
      "        (Only valid with C parser).\n",
      "    memory_map : bool, default False\n",
      "        If a filepath is provided for `filepath_or_buffer`, map the file object\n",
      "        directly onto memory and access the data directly from there. Using this\n",
      "        option can improve performance because there is no longer any I/O overhead.\n",
      "    float_precision : str, optional\n",
      "        Specifies which converter the C engine should use for floating-point\n",
      "        values. The options are ``None`` or 'high' for the ordinary converter,\n",
      "        'legacy' for the original lower precision pandas converter, and\n",
      "        'round_trip' for the round-trip converter.\n",
      "    \n",
      "        .. versionchanged:: 1.2\n",
      "    \n",
      "    storage_options : dict, optional\n",
      "        Extra options that make sense for a particular storage connection, e.g.\n",
      "        host, port, username, password, etc. For HTTP(S) URLs the key-value pairs\n",
      "        are forwarded to ``urllib`` as header options. For other URLs (e.g.\n",
      "        starting with \"s3://\", and \"gcs://\") the key-value pairs are forwarded to\n",
      "        ``fsspec``. Please see ``fsspec`` and ``urllib`` for more details.\n",
      "    \n",
      "        .. versionadded:: 1.2\n",
      "    \n",
      "    Returns\n",
      "    -------\n",
      "    DataFrame or TextParser\n",
      "        A comma-separated values (csv) file is returned as two-dimensional\n",
      "        data structure with labeled axes.\n",
      "    \n",
      "    See Also\n",
      "    --------\n",
      "    DataFrame.to_csv : Write DataFrame to a comma-separated values (csv) file.\n",
      "    read_csv : Read a comma-separated values (csv) file into DataFrame.\n",
      "    read_fwf : Read a table of fixed-width formatted lines into DataFrame.\n",
      "    \n",
      "    Examples\n",
      "    --------\n",
      "    >>> pd.read_csv('data.csv')  # doctest: +SKIP\n",
      "\n"
     ]
    }
   ],
   "source": [
    "help(pd.read_csv)"
   ]
  },
  {
   "cell_type": "markdown",
   "id": "f72c746a",
   "metadata": {},
   "source": [
    "### Excel Files\n",
    "\n",
    "As mentioned earlier we can also use the `pd.read_` functions to read in excel files.\n",
    " \n",
    "The function is `pd.read_excel()`\n"
   ]
  },
  {
   "cell_type": "code",
   "execution_count": 35,
   "id": "909132b5",
   "metadata": {},
   "outputs": [
    {
     "data": {
      "text/html": [
       "<div>\n",
       "<style scoped>\n",
       "    .dataframe tbody tr th:only-of-type {\n",
       "        vertical-align: middle;\n",
       "    }\n",
       "\n",
       "    .dataframe tbody tr th {\n",
       "        vertical-align: top;\n",
       "    }\n",
       "\n",
       "    .dataframe thead th {\n",
       "        text-align: right;\n",
       "    }\n",
       "</style>\n",
       "<table border=\"1\" class=\"dataframe\">\n",
       "  <thead>\n",
       "    <tr style=\"text-align: right;\">\n",
       "      <th></th>\n",
       "      <th>pclass</th>\n",
       "      <th>survived</th>\n",
       "      <th>name</th>\n",
       "      <th>sex</th>\n",
       "      <th>age</th>\n",
       "      <th>sibsp</th>\n",
       "      <th>parch</th>\n",
       "      <th>ticket</th>\n",
       "      <th>fare</th>\n",
       "      <th>cabin</th>\n",
       "      <th>embarked</th>\n",
       "      <th>home.dest</th>\n",
       "      <th>body</th>\n",
       "      <th>boat</th>\n",
       "    </tr>\n",
       "  </thead>\n",
       "  <tbody>\n",
       "    <tr>\n",
       "      <th>1262</th>\n",
       "      <td>3</td>\n",
       "      <td>0</td>\n",
       "      <td>van Billiard, Master. James William</td>\n",
       "      <td>male</td>\n",
       "      <td>NaN</td>\n",
       "      <td>1</td>\n",
       "      <td>1</td>\n",
       "      <td>A/5. 851</td>\n",
       "      <td>14.5</td>\n",
       "      <td>NaN</td>\n",
       "      <td>S</td>\n",
       "      <td>NaN</td>\n",
       "      <td>NaN</td>\n",
       "      <td>NaN</td>\n",
       "    </tr>\n",
       "  </tbody>\n",
       "</table>\n",
       "</div>"
      ],
      "text/plain": [
       "      pclass  survived                                 name   sex  age  sibsp  \\\n",
       "1262       3         0  van Billiard, Master. James William  male  NaN      1   \n",
       "\n",
       "      parch    ticket  fare cabin embarked home.dest  body boat  \n",
       "1262      1  A/5. 851  14.5   NaN        S       NaN   NaN  NaN  "
      ]
     },
     "execution_count": 35,
     "metadata": {},
     "output_type": "execute_result"
    }
   ],
   "source": [
    "titanic = pd.read_excel(\"data/titanic.xlsx\")\n",
    "titanic.sample()"
   ]
  },
  {
   "cell_type": "markdown",
   "id": "4d3669a2",
   "metadata": {},
   "source": [
    "### Reading in Other File types\n",
    "\n",
    "We can also import a wide variety of other file types using the `pd.read_` function.\n",
    "As you’ll see by pressing tab in the cell below, we can read in a variety of files.\n",
    "Such as:\n",
    "*  json\n",
    "* sas\n",
    "* sql\n",
    "* stata\n",
    "* pickles\n",
    "\n"
   ]
  },
  {
   "cell_type": "markdown",
   "id": "6998e909",
   "metadata": {},
   "source": [
    "<a id='export'></a>\n",
    "<hr style=\"width:100%;height:4px;border-width:0;color:gray;background-color:#003d59; opacity:1\"> "
   ]
  },
  {
   "cell_type": "markdown",
   "id": "ee78560b",
   "metadata": {},
   "source": [
    "### Exporting Data\n",
    "\n",
    "As well as reading in data we can also export data from Python.\n",
    "\n",
    "When we load data into Python using Pandas we create a temporary copy of it within our session. \n",
    "\n",
    "Any changes we make to the data won’t be reflected in the saved file.\n",
    "\n",
    "To save our files we use the `to_csv()` after our DataFrame object.\n"
   ]
  },
  {
   "cell_type": "code",
   "execution_count": 37,
   "id": "0cd0be3a",
   "metadata": {},
   "outputs": [],
   "source": [
    "titanic.to_csv(\"my_titanic.csv\")"
   ]
  },
  {
   "cell_type": "markdown",
   "id": "3081a490",
   "metadata": {},
   "source": [
    "Again, nothing seems to have actioned within Jupyter - the line number has increased so we know the code has run.\n",
    "\n",
    "If you check the outputs folder in File Explorer you will see the new file there."
   ]
  },
  {
   "cell_type": "markdown",
   "id": "40c8e6ec",
   "metadata": {},
   "source": [
    "### Summary \n",
    "\n",
    "In this chapter we’ve explored:\n",
    "\n",
    "* Reading CSV Files\n",
    "* Reading Excel Files\n",
    "* Exporting Data."
   ]
  },
  {
   "cell_type": "markdown",
   "id": "1eb20373",
   "metadata": {},
   "source": [
    "### Exercise\n",
    "\n",
    "Export the `animals` dataset as an excel file - The file extension is `.xlsx`\n"
   ]
  },
  {
   "cell_type": "code",
   "execution_count": null,
   "id": "e701a05d",
   "metadata": {},
   "outputs": [],
   "source": [
    "# Exercise\n",
    "\n"
   ]
  },
  {
   "cell_type": "markdown",
   "id": "a4fec113",
   "metadata": {},
   "source": [
    "\n",
    "Import the data `schools_data.csv` from the data folder with an apropriate variable name.\n",
    "\n",
    "Look at the bottom of the data using the `.tail()` method. All of our missing data is at the bottom, so you may see lots of `nan` values."
   ]
  },
  {
   "cell_type": "code",
   "execution_count": null,
   "id": "664a8cf1",
   "metadata": {},
   "outputs": [],
   "source": [
    "# Exercise\n",
    "\n"
   ]
  },
  {
   "cell_type": "markdown",
   "id": "dd071286",
   "metadata": {},
   "source": [
    "<a id='export'></a>\n",
    "<hr style=\"width:100%;height:4px;border-width:0;color:gray;background-color:#003d59; opacity:1\"> "
   ]
  },
  {
   "cell_type": "markdown",
   "id": "bfb77712",
   "metadata": {},
   "source": [
    "## Working with dataframes"
   ]
  },
  {
   "cell_type": "code",
   "execution_count": 38,
   "id": "2565fdb5",
   "metadata": {},
   "outputs": [],
   "source": [
    "animals = pd.read_csv(\"data/animals.csv\")\n",
    "titanic = pd.read_excel(\"data/titanic.xlsx\")\n",
    "joining_data1 = pd.read_csv(\"data/joining_data1.csv\")\n",
    "joining_data2 = pd.read_csv(\"data/joining_data2.csv\")\n",
    "union_join_data = pd.read_csv(\"data/union_data.csv\")\n",
    "marvel_left = pd.read_csv(\"data/joining_exercise1.csv\")\n",
    "marvel_right = pd.read_csv(\"data/joining_exercise2.csv\")"
   ]
  },
  {
   "cell_type": "code",
   "execution_count": 39,
   "id": "4417ea1f",
   "metadata": {},
   "outputs": [
    {
     "name": "stdout",
     "output_type": "stream",
     "text": [
      "Variable             Type         Data/Info\n",
      "-------------------------------------------\n",
      "animal_object_cols   DataFrame           IncidentNumber    <...>n[5752 rows x 14 columns]\n",
      "animals              DataFrame           IncidentNumber    <...>n[5752 rows x 19 columns]\n",
      "cat_dog              DataFrame      animal              nam<...>    Cat  Sir Isacc Mewton\n",
      "cost_over_1k         DataFrame           IncidentNumber    <...>n\\n[76 rows x 19 columns]\n",
      "joining_data1        DataFrame                   name anima<...>    Arf Vader    dog    6\n",
      "joining_data2        DataFrame                   name  vacc<...>    Spiderpig        True\n",
      "just_cats            DataFrame      animal              nam<...>    Cat  Sir Isacc Mewton\n",
      "marvel_left          DataFrame                             <...>uly             622648074\n",
      "marvel_right         DataFrame                             <...>Home          2019     90\n",
      "mask                 Series       0       False\\n1       Fa<...>Length: 5752, dtype: bool\n",
      "pd                   module       <module 'pandas' from 'C:<...>es\\\\pandas\\\\__init__.py'>\n",
      "titanic              DataFrame          pclass  survived   <...>n[1309 rows x 14 columns]\n",
      "union_join_data      DataFrame               name    animal<...>   Repecka   chicken    1\n"
     ]
    }
   ],
   "source": [
    "%whos"
   ]
  },
  {
   "cell_type": "markdown",
   "id": "8c5171b6",
   "metadata": {},
   "source": [
    "Before you start working with a dataset it can be important to examine it. For example:\n",
    "\n",
    "* Do the values look how you would expect?\n",
    "* Does the data have the right number of rows and columns? \n",
    "* Do the columns have your expected data types?\n",
    "* Is your data [clean?](https://en.wikipedia.org/wiki/Data_cleansing)\n",
    "\n",
    "In the last section we looked at three methods of quickly inspecting our dataframes.\n",
    "\n",
    "* `.head()`  - Top 5 rows\n",
    "* `.tail()`  - Bottom 5 Rows\n",
    "* `.sample()` - 1 Randomly sampled row."
   ]
  },
  {
   "cell_type": "markdown",
   "id": "9c104f17",
   "metadata": {},
   "source": [
    "We can also use `.info()` this gives us information about:\n",
    "\n",
    "* The class of the object – a `pandas` DataFrame\n",
    "* The range (or length of our index) – our number of rows\n",
    "* How many columns we have\n",
    "* The column names\n",
    "* The number of non-null entries (a.k.a without missing values)\n",
    "* The data type of the column\n",
    "* The number of columns of each data type.\n",
    "\n",
    "We’ll look at data types in more detail later."
   ]
  },
  {
   "cell_type": "code",
   "execution_count": 40,
   "id": "7f801612",
   "metadata": {},
   "outputs": [
    {
     "name": "stdout",
     "output_type": "stream",
     "text": [
      "<class 'pandas.core.frame.DataFrame'>\n",
      "RangeIndex: 1309 entries, 0 to 1308\n",
      "Data columns (total 14 columns):\n",
      " #   Column     Non-Null Count  Dtype  \n",
      "---  ------     --------------  -----  \n",
      " 0   pclass     1309 non-null   int64  \n",
      " 1   survived   1309 non-null   int64  \n",
      " 2   name       1309 non-null   object \n",
      " 3   sex        1309 non-null   object \n",
      " 4   age        1046 non-null   float64\n",
      " 5   sibsp      1309 non-null   int64  \n",
      " 6   parch      1309 non-null   int64  \n",
      " 7   ticket     1309 non-null   object \n",
      " 8   fare       1308 non-null   float64\n",
      " 9   cabin      295 non-null    object \n",
      " 10  embarked   1307 non-null   object \n",
      " 11  home.dest  745 non-null    object \n",
      " 12  body       121 non-null    float64\n",
      " 13  boat       486 non-null    object \n",
      "dtypes: float64(3), int64(4), object(7)\n",
      "memory usage: 143.3+ KB\n"
     ]
    }
   ],
   "source": [
    "titanic.info()"
   ]
  },
  {
   "cell_type": "markdown",
   "id": "930c0a7f",
   "metadata": {},
   "source": [
    "`.shape` provides us with the dimensions of the object."
   ]
  },
  {
   "cell_type": "code",
   "execution_count": 41,
   "id": "de4483fd",
   "metadata": {},
   "outputs": [
    {
     "data": {
      "text/plain": [
       "(5752, 19)"
      ]
     },
     "execution_count": 41,
     "metadata": {},
     "output_type": "execute_result"
    }
   ],
   "source": [
    "animals.shape"
   ]
  },
  {
   "cell_type": "markdown",
   "id": "c054e8b6",
   "metadata": {},
   "source": [
    "We can use our indexing brackets to return an item in this tuple – for example the number rows at index 0."
   ]
  },
  {
   "cell_type": "code",
   "execution_count": 42,
   "id": "3586dc04",
   "metadata": {},
   "outputs": [
    {
     "data": {
      "text/plain": [
       "5752"
      ]
     },
     "execution_count": 42,
     "metadata": {},
     "output_type": "execute_result"
    }
   ],
   "source": [
    "animals.shape[0]"
   ]
  },
  {
   "cell_type": "markdown",
   "id": "2c19844a",
   "metadata": {},
   "source": [
    "And the number of columns at index 1."
   ]
  },
  {
   "cell_type": "code",
   "execution_count": 43,
   "id": "592f5c5a",
   "metadata": {},
   "outputs": [
    {
     "data": {
      "text/plain": [
       "19"
      ]
     },
     "execution_count": 43,
     "metadata": {},
     "output_type": "execute_result"
    }
   ],
   "source": [
    "animals.shape[1]"
   ]
  },
  {
   "cell_type": "markdown",
   "id": "d824ceb5",
   "metadata": {},
   "source": [
    "We can also use the inbuilt `len()` function to find the **len**gth. This will return us the rows."
   ]
  },
  {
   "cell_type": "code",
   "execution_count": 44,
   "id": "c64ec4a7",
   "metadata": {},
   "outputs": [
    {
     "data": {
      "text/plain": [
       "5752"
      ]
     },
     "execution_count": 44,
     "metadata": {},
     "output_type": "execute_result"
    }
   ],
   "source": [
    "len(animals)"
   ]
  },
  {
   "cell_type": "markdown",
   "id": "2014ab65",
   "metadata": {},
   "source": [
    "We can also modify this to return us the number of columns – like so."
   ]
  },
  {
   "cell_type": "code",
   "execution_count": 45,
   "id": "84f9448d",
   "metadata": {},
   "outputs": [
    {
     "data": {
      "text/plain": [
       "19"
      ]
     },
     "execution_count": 45,
     "metadata": {},
     "output_type": "execute_result"
    }
   ],
   "source": [
    "len(animals.columns)"
   ]
  },
  {
   "cell_type": "markdown",
   "id": "2a7e2eb8",
   "metadata": {},
   "source": [
    "<hr style=\"width:70%;height:4px;border-width:0;color:gray;background-color:#003d59; opacity:0.75\"> "
   ]
  },
  {
   "cell_type": "markdown",
   "id": "ad5fb8be",
   "metadata": {},
   "source": [
    "### Data types\n",
    "\n",
    "It is also important to check the data types when we bring in data. If you’ve worked with other analytical software before you’ll know that sometimes data doesn’t come in as we would expect.\n",
    "\n",
    "We do this using `.dtypes`\n"
   ]
  },
  {
   "cell_type": "code",
   "execution_count": 46,
   "id": "bd2e2793",
   "metadata": {},
   "outputs": [
    {
     "data": {
      "text/plain": [
       "IncidentNumber                 object\n",
       "DateTimeOfCall                 object\n",
       "CalYear                         int64\n",
       "FinYear                        object\n",
       "TypeOfIncident                 object\n",
       "PumpCount                     float64\n",
       "PumpHoursTotal                float64\n",
       "HourlyNominalCost(£)            int64\n",
       "IncidentNominalCost(£)        float64\n",
       "FinalDescription               object\n",
       "AnimalGroupParent              object\n",
       "PropertyType                   object\n",
       "SpecialServiceTypeCategory     object\n",
       "SpecialServiceType             object\n",
       "Borough                        object\n",
       "StnGroundName                  object\n",
       "AnimalClass                    object\n",
       "Code                           object\n",
       "London                         object\n",
       "dtype: object"
      ]
     },
     "execution_count": 46,
     "metadata": {},
     "output_type": "execute_result"
    }
   ],
   "source": [
    "animals.dtypes"
   ]
  },
  {
   "cell_type": "markdown",
   "id": "a4a334eb",
   "metadata": {},
   "source": [
    "We have some of the data types we’re seen before\n",
    "\n",
    "* **int** represents integers; our whole numbers\n",
    "\t* CalYear (Calendar Year) is column of whole numbers\n",
    "    \n",
    "    \n",
    "* **float** represents ‘floating point’ numbers or decimals\n",
    "\t* IncidentNominalCost(£) (The financial cost of each incident) is a decimal number.\n",
    "\n",
    "\n",
    "* **object** or **O**  here represents what we’ve been calling *string* data so far - text values\n",
    "\t* AnimalClass (The kind of animal) is a text based value.\n",
    "\n",
    "We may also see\n",
    "\n",
    "* **bool** - representing Boolean values; our True and False\n",
    "* **datetime** - date and time values\n",
    "* **category** - a special `pandas` datatype for categorical or factor variables."
   ]
  },
  {
   "cell_type": "markdown",
   "id": "870501f0",
   "metadata": {},
   "source": [
    "<hr style=\"width:70%;height:4px;border-width:0;color:gray;background-color:#003d59; opacity:0.75\"> "
   ]
  },
  {
   "cell_type": "markdown",
   "id": "9fdb42eb",
   "metadata": {},
   "source": [
    "### Column Names\n",
    "\n",
    "To call a column, we give the DataFrame name then the name of our column, in quotes, inside square brackets.\n"
   ]
  },
  {
   "cell_type": "code",
   "execution_count": 47,
   "id": "4a9bbced",
   "metadata": {},
   "outputs": [
    {
     "data": {
      "text/plain": [
       "0    Mammal\n",
       "1    Mammal\n",
       "2    Mammal\n",
       "3    Mammal\n",
       "4    Mammal\n",
       "Name: AnimalClass, dtype: object"
      ]
     },
     "execution_count": 47,
     "metadata": {},
     "output_type": "execute_result"
    }
   ],
   "source": [
    "animals['AnimalClass'].head()"
   ]
  },
  {
   "cell_type": "markdown",
   "id": "f5131957",
   "metadata": {},
   "source": [
    "We can access our columns by using the `.columns` attribute - remember no brackets after attributes.\n",
    "\n",
    "This will print out our columns as a data type called an `index`. "
   ]
  },
  {
   "cell_type": "code",
   "execution_count": 48,
   "id": "dd4ac62c",
   "metadata": {},
   "outputs": [
    {
     "data": {
      "text/plain": [
       "Index(['IncidentNumber', 'DateTimeOfCall', 'CalYear', 'FinYear',\n",
       "       'TypeOfIncident', 'PumpCount', 'PumpHoursTotal', 'HourlyNominalCost(£)',\n",
       "       'IncidentNominalCost(£)', 'FinalDescription', 'AnimalGroupParent',\n",
       "       'PropertyType', 'SpecialServiceTypeCategory', 'SpecialServiceType',\n",
       "       'Borough', 'StnGroundName', 'AnimalClass', 'Code', 'London'],\n",
       "      dtype='object')"
      ]
     },
     "execution_count": 48,
     "metadata": {},
     "output_type": "execute_result"
    }
   ],
   "source": [
    "animals.columns"
   ]
  },
  {
   "cell_type": "code",
   "execution_count": 49,
   "id": "d131e479",
   "metadata": {},
   "outputs": [
    {
     "data": {
      "text/plain": [
       "['IncidentNumber',\n",
       " 'DateTimeOfCall',\n",
       " 'CalYear',\n",
       " 'FinYear',\n",
       " 'TypeOfIncident',\n",
       " 'PumpCount',\n",
       " 'PumpHoursTotal',\n",
       " 'HourlyNominalCost(£)',\n",
       " 'IncidentNominalCost(£)',\n",
       " 'FinalDescription',\n",
       " 'AnimalGroupParent',\n",
       " 'PropertyType',\n",
       " 'SpecialServiceTypeCategory',\n",
       " 'SpecialServiceType',\n",
       " 'Borough',\n",
       " 'StnGroundName',\n",
       " 'AnimalClass',\n",
       " 'Code',\n",
       " 'London']"
      ]
     },
     "execution_count": 49,
     "metadata": {},
     "output_type": "execute_result"
    }
   ],
   "source": [
    "animals.columns.tolist()"
   ]
  },
  {
   "cell_type": "markdown",
   "id": "295d1545",
   "metadata": {},
   "source": [
    "<hr style=\"width:70%;height:4px;border-width:0;color:gray;background-color:#003d59; opacity:0.75\"> "
   ]
  },
  {
   "cell_type": "markdown",
   "id": "be87fcd5",
   "metadata": {},
   "source": [
    "### Sorting Data\n",
    "\n",
    "We may want to sort our data, based on specific columns.\n",
    "\n",
    "To do this we use the method `.sort_values(by=\"column name\")`\n"
   ]
  },
  {
   "cell_type": "code",
   "execution_count": null,
   "id": "30bd2ade",
   "metadata": {},
   "outputs": [],
   "source": [
    "animals_sorted = animals.sort_values(by=\"IncidentNominalCost(£)\")\n",
    "\n",
    "animals_sorted.head()"
   ]
  },
  {
   "cell_type": "markdown",
   "id": "dcc265ca",
   "metadata": {},
   "source": [
    "There are additional arguments we can set – by default the values are sorted in ascending order, by changing `ascending=False` we can sort in descending order."
   ]
  },
  {
   "cell_type": "code",
   "execution_count": null,
   "id": "02eed2e6",
   "metadata": {},
   "outputs": [],
   "source": [
    "animals_sorted = animals.sort_values(by=\"IncidentNominalCost(£)\", ascending=False)\n",
    "animals_sorted.head()"
   ]
  },
  {
   "cell_type": "markdown",
   "id": "1f430854",
   "metadata": {},
   "source": [
    "We can also sort by more than one column by including a list.\n",
    "\n",
    "Here we are sorting by `\"IncidentNominalCost(£)\"`; and then by `\"AnimalClass\"`. Notice object (text/string) columns are sorted by *alphabetical* order.\n"
   ]
  },
  {
   "cell_type": "code",
   "execution_count": null,
   "id": "17b8ee3e",
   "metadata": {},
   "outputs": [],
   "source": [
    "animals_sorted = animals.sort_values(by=[\"IncidentNominalCost(£)\", \"AnimalClass\"])\n",
    "animals_sorted.head()"
   ]
  },
  {
   "cell_type": "markdown",
   "id": "a9dcd72a",
   "metadata": {},
   "source": [
    "<hr style=\"width:75%;height:4px;border-width:0;color:gray;background-color:#003d59; opacity:0.75\"> "
   ]
  },
  {
   "cell_type": "markdown",
   "id": "6c2a48dd",
   "metadata": {},
   "source": [
    "### Selecting Multiple Columns\n",
    "\n",
    "I can select multiple columns by providing them in a list."
   ]
  },
  {
   "cell_type": "code",
   "execution_count": null,
   "id": "938883de",
   "metadata": {},
   "outputs": [],
   "source": [
    "# Create a list of columns\n",
    "my_list_of_columns = [ \"DateTimeOfCall\", \"AnimalGroupParent\", \"IncidentNominalCost(£)\"]\n",
    "\n",
    "# Pass that list to my indexing brackets\n",
    "animal_small_df = animals[my_list_of_columns]\n",
    "\n",
    "# Show the first few rows\n",
    "animal_small_df.head()"
   ]
  },
  {
   "cell_type": "markdown",
   "id": "23351b18",
   "metadata": {},
   "source": [
    "We can do this in one step by using two sets of square brackets next to each other. It’s important to realise that they are doing two separate roles. \n",
    "\n",
    "Our first set is selecting or indexing from the animals DataFrame and our second set is creating a list of our columns we wish to select.\n",
    "\n",
    "Note this gives the exact same result as the two step approach above."
   ]
  },
  {
   "cell_type": "code",
   "execution_count": null,
   "id": "b63b834b",
   "metadata": {},
   "outputs": [],
   "source": [
    "animal_small_df = animals[[ \"DateTimeOfCall\", \"AnimalGroupParent\", \"IncidentNominalCost(£)\"]]\n",
    "animal_small_df.sample(6)"
   ]
  },
  {
   "cell_type": "markdown",
   "id": "465482e5",
   "metadata": {},
   "source": [
    "Note that when we return one column we get a Series object.\n",
    "\n",
    "When we return more than one column we get a DataFrame.\n"
   ]
  },
  {
   "cell_type": "markdown",
   "id": "937f1dca",
   "metadata": {},
   "source": [
    "### Selecting on data type\n",
    "We can also use the method `.select_dtypes()` if we want to include or exclude specific kinds of data from our dataframe."
   ]
  },
  {
   "cell_type": "code",
   "execution_count": null,
   "id": "8ee09846",
   "metadata": {},
   "outputs": [],
   "source": [
    "# Select just the object columns\n",
    "animal_object_cols = animals.select_dtypes(include=[\"object\"])\n",
    "\n",
    "# Return the top of the animal columns\n",
    "\n",
    "animal_object_cols.head()"
   ]
  },
  {
   "cell_type": "markdown",
   "id": "cd1f90af",
   "metadata": {},
   "source": [
    "<hr style=\"width:75%;height:4px;border-width:0;color:gray;background-color:#003d59; opacity:0.75\"> "
   ]
  },
  {
   "cell_type": "markdown",
   "id": "1bc6398a",
   "metadata": {},
   "source": [
    "### Filtering\n",
    "\n",
    "* Single Conditional Filtering\n",
    "* Multiple Conditional Filtering\n",
    "\n",
    "We can achieve really simple filtering by passing a range to the DataFrame indexer.\n",
    "\n",
    "e.g.\n"
   ]
  },
  {
   "cell_type": "code",
   "execution_count": null,
   "id": "02281242",
   "metadata": {},
   "outputs": [],
   "source": [
    "animals[0:5]"
   ]
  },
  {
   "cell_type": "code",
   "execution_count": null,
   "id": "87c0c376",
   "metadata": {},
   "outputs": [],
   "source": [
    "animals[200:250]"
   ]
  },
  {
   "cell_type": "markdown",
   "id": "1a44069a",
   "metadata": {},
   "source": [
    "### Single Conditional Filtering\n",
    "\n",
    "We can filter data in a two step process.\n",
    "\n",
    "1.\tFirst create a `mask` that specifies inclusion or exclusion for each row in the DataFrame.\n",
    "2.\tApply the mask on to the DataFrame to return the subset of rows that are included.\n"
   ]
  },
  {
   "cell_type": "code",
   "execution_count": null,
   "id": "87751299",
   "metadata": {},
   "outputs": [],
   "source": [
    "cat_dog = pd.DataFrame({\"animal\": [\"Cat\", \"Cat\", \"Dog\", \"Cat\"] , \n",
    "                        \"name\": [\"Catalie Portman\",\"Pico de Gato\", \"Chewbarka\", \"Sir Isacc Mewton\"]})\n",
    "\n",
    "# Print out the DataFrame\n",
    "\n",
    "cat_dog"
   ]
  },
  {
   "cell_type": "markdown",
   "id": "bd78ba87",
   "metadata": {},
   "source": [
    "I want to filter so I just have ‘Cat’ Rows.\n",
    "\n",
    "My condition can be written like this:"
   ]
  },
  {
   "cell_type": "code",
   "execution_count": null,
   "id": "3d00f834",
   "metadata": {},
   "outputs": [],
   "source": [
    "mask = cat_dog['animal'] == 'Cat'"
   ]
  },
  {
   "cell_type": "markdown",
   "id": "2a371072",
   "metadata": {},
   "source": [
    "* I am assigning my output to the variable `mask` with the single `=` sign\n",
    "* The column I want to look for values in is `\"animal\"` from the `catdog` Dataframe - `catdog[\"animal\"]`\n",
    "* From that column I want to find values that meet my condition – I state this with the double equals `==`\n",
    "* Finally I am telling Pandas what value I want to find; a string containing “Cat”\n",
    "\n",
    "If we run the cell we can see the output is a Boolean Series, our True and False values."
   ]
  },
  {
   "cell_type": "code",
   "execution_count": null,
   "id": "7f2f6aa1",
   "metadata": {},
   "outputs": [],
   "source": [
    "# Run me to see the Series of Boolean values\n",
    "mask"
   ]
  },
  {
   "cell_type": "code",
   "execution_count": null,
   "id": "d71a4f8e",
   "metadata": {},
   "outputs": [],
   "source": [
    "just_cats = cat_dog[mask]\n",
    "just_cats"
   ]
  },
  {
   "cell_type": "markdown",
   "id": "4a682fb9",
   "metadata": {},
   "source": [
    "Our logical comparison statements are:\n",
    "   \n",
    "   \n",
    "| Symbol | Meaning|   \n",
    "|------------|------------|\n",
    "| ==       | Is equivalent to|\n",
    "| !=| Does not equal|\n",
    "|> |Greater than|\n",
    "|>=| Greater than or equivalent too|\n",
    "|< |Less than|\n",
    "|<= |Less than or equivalent too|\n",
    "\n",
    "\n",
    "\n",
    "Let’s view one more example – using our animals **DataFrame**  to find `IncidentNominalCost(£)` over £1000.\n",
    "\n"
   ]
  },
  {
   "cell_type": "code",
   "execution_count": null,
   "id": "4a1fee21",
   "metadata": {},
   "outputs": [],
   "source": [
    "# Note here we're using the animals DataFrame\n",
    "\n",
    "cost_over_1k = animals[animals['IncidentNominalCost(£)'] > 1000]\n",
    "cost_over_1k.sample(6)"
   ]
  },
  {
   "cell_type": "code",
   "execution_count": null,
   "id": "8e5958ab",
   "metadata": {},
   "outputs": [],
   "source": [
    "mask = animals['IncidentNominalCost(£)'] > 1000\n",
    "mask"
   ]
  },
  {
   "cell_type": "markdown",
   "id": "dab7c606",
   "metadata": {},
   "source": [
    "Here we have\n",
    "* Assigned a new name `cost_over_1k` which will hold our output\n",
    "* Give our DataFrame name, and our indexing or selection brackets:  `animals[]`\n",
    "* The column I want to look for values in is ”IncidentNominalCost” from the Animals Dataframe `animals[‘IncidentNominalCost(£)’]`\n",
    "* The condition I want is ` > 1000` , greater than a thousand. As this is a numeric column I can just specify the number.\n",
    "* Printing out the variable, using `.sample(6)` method to display 6 rows of the new DataFrame."
   ]
  },
  {
   "cell_type": "markdown",
   "id": "2d347883",
   "metadata": {},
   "source": [
    "#### Exercise\n",
    "\n",
    "Filter the `titanic` DataFrame by `sex` column; return the “female” values."
   ]
  },
  {
   "cell_type": "code",
   "execution_count": null,
   "id": "fc049a0f",
   "metadata": {},
   "outputs": [],
   "source": [
    "# Exercise\n",
    "\n"
   ]
  },
  {
   "cell_type": "markdown",
   "id": "c8e74c7a",
   "metadata": {},
   "source": [
    "Filter the `titanic` DataFrame by `age` column; return the values over 40."
   ]
  },
  {
   "cell_type": "code",
   "execution_count": null,
   "id": "cadde727",
   "metadata": {},
   "outputs": [],
   "source": [
    "# Exercise\n",
    "\n"
   ]
  },
  {
   "cell_type": "markdown",
   "id": "7721305a",
   "metadata": {},
   "source": [
    "Filter the `titanic` DataFrame by `fare` column; return the values less than or equal to 30.50 ."
   ]
  },
  {
   "cell_type": "code",
   "execution_count": null,
   "id": "7d0ec7c9",
   "metadata": {},
   "outputs": [],
   "source": [
    "# Exercise\n",
    "\n"
   ]
  },
  {
   "cell_type": "markdown",
   "id": "caab30a9",
   "metadata": {},
   "source": [
    "<hr style=\"width:75%;height:4px;border-width:0;color:gray;background-color:#003d59; opacity:0.75\"> "
   ]
  },
  {
   "cell_type": "markdown",
   "id": "c0047ea7",
   "metadata": {},
   "source": [
    "### Multiple Conditional Filtering \n",
    "\n",
    "Let’s add in a new column, representing age to the `cat_dog` DataFrame."
   ]
  },
  {
   "cell_type": "code",
   "execution_count": null,
   "id": "3e7e669c",
   "metadata": {},
   "outputs": [],
   "source": [
    "# Let's create a simple DataFrame to look at this in practice\n",
    "# Again, we don't need to worry about how we do this!\n",
    "\n",
    "cat_dog = pd.DataFrame({\"animal\": [\"Cat\", \"Cat\", \"Dog\", \"Cat\", \"Dog\"], \n",
    "                        \"name\": [\"Catalie Portman\",\"Pico de Gato\", \"Chewbarka\", \"Sir Isaac Mewton\", \"K9\"],\n",
    "                        \"age\": [3, 5, 1, 7, 11]}, \n",
    "                       columns=[\"name\", \"animal\", \"age\"])\n",
    "\n",
    "\n",
    "# Print out the DataFrame\n",
    "\n",
    "cat_dog"
   ]
  },
  {
   "cell_type": "markdown",
   "id": "099f2195",
   "metadata": {},
   "source": [
    "We now have an age column so we can now select all Cats that are older than 4.\n",
    "\n",
    "Again, in this example we will create a mask so we can see what Boolean values are happening behind the scenes.\n"
   ]
  },
  {
   "cell_type": "code",
   "execution_count": null,
   "id": "de422a58",
   "metadata": {},
   "outputs": [],
   "source": [
    "# Create my mask\n",
    "mask = (cat_dog['animal'] == \"Cat\") & (cat_dog['age'] > 4)\n",
    "\n",
    "# have a look at the mask\n",
    "mask"
   ]
  },
  {
   "cell_type": "code",
   "execution_count": null,
   "id": "f221ad0d",
   "metadata": {},
   "outputs": [],
   "source": [
    "cats_over_4 = cat_dog[mask]\n",
    "cats_over_4"
   ]
  },
  {
   "cell_type": "markdown",
   "id": "b14e0104",
   "metadata": {},
   "source": [
    "To do this in one line:"
   ]
  },
  {
   "cell_type": "code",
   "execution_count": null,
   "id": "7292b48f",
   "metadata": {},
   "outputs": [],
   "source": [
    "cats_over_4 = cat_dog[(cat_dog[\"animal\"] == \"Cat\") & (cat_dog[\"age\"] > 4)]\n",
    "cats_over_4"
   ]
  },
  {
   "cell_type": "markdown",
   "id": "c08b895f",
   "metadata": {},
   "source": [
    "The OR condition is represented by a vertical bar symbol ( `|` ).\n",
    "\n",
    "Lets add a condition where the animal is a cat **OR** the age is greater than 4.\n"
   ]
  },
  {
   "cell_type": "code",
   "execution_count": null,
   "id": "2dc732ef",
   "metadata": {},
   "outputs": [],
   "source": [
    "# Create my mask\n",
    "mask = (cat_dog[\"animal\"] == \"Cat\") | (cat_dog[\"age\"] > 4)\n",
    "\n",
    "# View mask\n",
    "\n",
    "mask"
   ]
  },
  {
   "cell_type": "code",
   "execution_count": null,
   "id": "52c512e8",
   "metadata": {},
   "outputs": [],
   "source": [
    "cats_or_over4 = cat_dog[mask]\n",
    "cats_or_over4"
   ]
  },
  {
   "cell_type": "markdown",
   "id": "54434b00",
   "metadata": {},
   "source": [
    "Or in one line:"
   ]
  },
  {
   "cell_type": "code",
   "execution_count": null,
   "id": "e60d94f8",
   "metadata": {},
   "outputs": [],
   "source": [
    "cats_or_over4 = cat_dog[(cat_dog[\"animal\"] == \"Cat\") | (cat_dog[\"age\"] > 4)]\n",
    "cats_or_over4"
   ]
  },
  {
   "cell_type": "markdown",
   "id": "8d68305c",
   "metadata": {},
   "source": [
    "#### Exercise\n",
    "\n",
    "Filter the animals DataFrame where the IncidentNominalCost(£) Column was less than £400 **and** where the Borough column value is Croydon."
   ]
  },
  {
   "cell_type": "code",
   "execution_count": null,
   "id": "091acab5",
   "metadata": {},
   "outputs": [],
   "source": [
    "# Exercise\n",
    "\n"
   ]
  },
  {
   "cell_type": "markdown",
   "id": "58c10416",
   "metadata": {},
   "source": [
    "Filter the animals DataFrame where the 'PropertyType' was \"River/canal\" **or** the `\"PumpHoursTotal\"` was greater than 8."
   ]
  },
  {
   "cell_type": "code",
   "execution_count": null,
   "id": "868e9d7a",
   "metadata": {},
   "outputs": [],
   "source": [
    "# Exercise\n",
    "\n"
   ]
  },
  {
   "cell_type": "markdown",
   "id": "16cda0b6",
   "metadata": {},
   "source": [
    "### Filter short cuts\n",
    "\n",
    "with `.isin()` we can provide a list of things to filter – here the boat identities `[“2”, “C”, “15”]`\n"
   ]
  },
  {
   "cell_type": "code",
   "execution_count": null,
   "id": "a9154da4",
   "metadata": {},
   "outputs": [],
   "source": [
    "titanic[titanic[\"boat\"].isin([\"2\", \"C\", \"15\"])].head()"
   ]
  },
  {
   "cell_type": "markdown",
   "id": "bfd246e3",
   "metadata": {},
   "source": [
    "If dealing with numeric values we can use `.between()` and specify an upper and lower bound (inclusive this time).\n",
    "\n",
    "Here we’re looking where the `age` column was between 0 and 12.\n"
   ]
  },
  {
   "cell_type": "code",
   "execution_count": null,
   "id": "62e4b111",
   "metadata": {},
   "outputs": [],
   "source": [
    "titanic[titanic[\"age\"].between(0, 12)]"
   ]
  },
  {
   "cell_type": "markdown",
   "id": "e65277c9",
   "metadata": {},
   "source": [
    "We also have the `~` tilde symbol to invert an expression, this works similarly to the `!=` for does not equal.\n",
    "\n",
    "For example, I can invert the filter for female passengers to return just male passengers.\n",
    "\n",
    "Note – I have to wrap my conditional statement in round brackets to ensure this works."
   ]
  },
  {
   "cell_type": "code",
   "execution_count": null,
   "id": "eca6eb61",
   "metadata": {},
   "outputs": [],
   "source": [
    "titanic[~(titanic[\"sex\"] == \"female\")]  # Inverts the results of == Female; effectively giving == Male"
   ]
  },
  {
   "cell_type": "markdown",
   "id": "d428fefc",
   "metadata": {},
   "source": [
    "<a id='new_columns'></a>\n",
    "<hr style=\"width:100%;height:4px;border-width:0;color:gray;background-color:#003d59; opacity:1\"> "
   ]
  },
  {
   "cell_type": "markdown",
   "id": "29b79569",
   "metadata": {},
   "source": [
    "## Deriving New Columns"
   ]
  },
  {
   "cell_type": "markdown",
   "id": "26275c44",
   "metadata": {},
   "source": [
    "We create new columns in very similar ways:\n",
    "\n",
    "`titanic[\"new_column\"] = 1`\n",
    "\n",
    "\n",
    "In the example above we are creating a new column in the `titanic` DataFrame called `\"new_column\"`, which will have the constant value of 1 in each row.\n",
    "\n",
    "* To create a new column we first give the DataFrame name and use square brackets to specify, as a string our column name – here `\"new_column\"`\n",
    "    * If the column name does not exist in our Dataframe (like in the example) the contents will be placed in a new column, at the end of the DataFrame.\n",
    "    * If the column already exists in our DataFrame the contents of that column will be **overwritten**."
   ]
  },
  {
   "cell_type": "code",
   "execution_count": null,
   "id": "5038cc62",
   "metadata": {},
   "outputs": [],
   "source": [
    "# Let's add new columns\n",
    "\n",
    "cat_dog[\"constant_string\"] = \"mammal\"   # adds a string/object constant\n",
    "cat_dog[\"constant_float\"] = 3.2 # adds a floating point constant\n",
    "cat_dog[\"constant_int\"] = 2   # adds an interger constant\n",
    "\n",
    "cat_dog"
   ]
  },
  {
   "cell_type": "markdown",
   "id": "b1951534",
   "metadata": {},
   "source": [
    "We can do any form of operations we like here – for example creating the family size of the person. \n",
    "\n",
    "This is the number of siblings or spouses on board (`sibsp`), the number of parents or children on board (`parch`), plus 1 (the person themselves)."
   ]
  },
  {
   "cell_type": "code",
   "execution_count": null,
   "id": "88644592",
   "metadata": {},
   "outputs": [],
   "source": [
    "titanic[\"family_size\"] = titanic[\"sibsp\"] + titanic[\"parch\"] + 1\n",
    "\n",
    "titanic.head()"
   ]
  },
  {
   "cell_type": "markdown",
   "id": "9bf1b2f6",
   "metadata": {},
   "source": [
    "## Deleting columns\n",
    "\n",
    "There are a few ways to remove or drop columns.\n",
    "\n",
    "Let's look at cat_dog again"
   ]
  },
  {
   "cell_type": "code",
   "execution_count": null,
   "id": "012ad423",
   "metadata": {},
   "outputs": [],
   "source": [
    "cat_dog"
   ]
  },
  {
   "cell_type": "markdown",
   "id": "c7b8ad4c",
   "metadata": {},
   "source": [
    "We have the inbuilt python statement del ; here to delete the column constant_float from cat_dog DataFrame"
   ]
  },
  {
   "cell_type": "code",
   "execution_count": null,
   "id": "a24e3b3f",
   "metadata": {},
   "outputs": [],
   "source": [
    "del cat_dog[\"constant_float\"]\n",
    "cat_dog"
   ]
  },
  {
   "cell_type": "markdown",
   "id": "d892a732",
   "metadata": {},
   "source": [
    "We can also use the `.drop()` method."
   ]
  },
  {
   "cell_type": "code",
   "execution_count": null,
   "id": "4e8498aa",
   "metadata": {},
   "outputs": [],
   "source": [
    "#cat_dog.drop(columns = [\"constant_string\", \"constant_int\"], inplace = True)\n",
    "\n",
    "# If this cell doesn't work check your version using pd.__version__\n",
    "cat_dog.drop(labels=[\"constant_string\", \"constant_int\"], axis=1, inplace=True)"
   ]
  },
  {
   "cell_type": "code",
   "execution_count": null,
   "id": "0bcaca3b",
   "metadata": {},
   "outputs": [],
   "source": [
    "cat_dog"
   ]
  },
  {
   "cell_type": "markdown",
   "id": "261970f9",
   "metadata": {},
   "source": [
    "<a id='merge'></a>\n",
    "<hr style=\"width:100%;height:4px;border-width:0;color:gray;background-color:#003d59; opacity:1\"> "
   ]
  },
  {
   "cell_type": "markdown",
   "id": "9c0a46bf",
   "metadata": {},
   "source": [
    "## Merging Data\n",
    "\n",
    "* About Merging\n",
    "* Merging using Pandas\n",
    "* Union joins\n",
    "\n",
    "Let’s have a look at the two `joining_data`  DataFrames.\n",
    "\n",
    "In `joining_data1` we have the columns `name`, `animal` and `age`.\n",
    "In `joining_data2` we have the columns `name` and `vaccinated`.\n",
    "\n",
    "`Arf Vader` only appears in `joining_data1` and `Spiderpig` only appears in `joining_data2`. The remainder of the animals appear in both DataFrames."
   ]
  },
  {
   "cell_type": "code",
   "execution_count": null,
   "id": "dabb89b1",
   "metadata": {},
   "outputs": [],
   "source": [
    "joining_data1"
   ]
  },
  {
   "cell_type": "code",
   "execution_count": null,
   "id": "fea9d953",
   "metadata": {},
   "outputs": [],
   "source": [
    "joining_data2"
   ]
  },
  {
   "cell_type": "code",
   "execution_count": null,
   "id": "75b74838",
   "metadata": {},
   "outputs": [],
   "source": [
    "left_merge = pd.merge(left = joining_data1,\n",
    "                      right = joining_data2, \n",
    "                                 how = \"left\",\n",
    "                                 on = \"name\",\n",
    "                                 indicator = True)\n",
    "\n",
    "left_merge"
   ]
  },
  {
   "cell_type": "markdown",
   "id": "93e11a0a",
   "metadata": {},
   "source": [
    "Hopefully the code is fairly self-explanatory:\n",
    "\n",
    "* `left =` is our left hand DataFrame\n",
    "* `right= ` is our right hand DataFrame\n",
    "\n",
    "\n",
    "* `how= ` is how we want to perform the join – other options are\n",
    " * `right`\n",
    " * `outer`\n",
    " * `inner`  (default behaviour)\n",
    "\n",
    "\n",
    "* ` on= ` is the name of the column both DataFrames have in common. \n",
    " * If we're joining on more than one column we can specify a list here.\n",
    " \n",
    " \n",
    "* ` indicator` set to `True` adds an additional column showing if the data was in the left_only, both or right_only as applicable.\n"
   ]
  },
  {
   "cell_type": "markdown",
   "id": "6c213cfc",
   "metadata": {},
   "source": [
    "### Union Merge\n",
    "\n",
    "We can also do what's known as `union` merges, which is implimented using `pd.concat()`.\n",
    "\n",
    "This is where we can add data on to the bottom of an existing dataFrame.\n",
    "\n",
    "For example we have some new animals to add on to `joining_data1`, these are contained in the `union_joined` DataFrame."
   ]
  },
  {
   "cell_type": "code",
   "execution_count": null,
   "id": "39ff584c",
   "metadata": {},
   "outputs": [],
   "source": [
    "union_join_data"
   ]
  },
  {
   "cell_type": "code",
   "execution_count": null,
   "id": "e6d2a006",
   "metadata": {},
   "outputs": [],
   "source": [
    "union_joined = pd.concat(objs=[joining_data1, union_join_data], ignore_index=True)\n",
    "union_joined"
   ]
  },
  {
   "cell_type": "markdown",
   "id": "a5a1b629",
   "metadata": {},
   "source": [
    "Our parameters and arguments in `pd.conact()` are:\n",
    "* `objs= ` Our objects that we wish to concatenate – here as a list\n",
    "* `ignore_index= ` My new DataFrame will have it’s “own” index starting from 0. If I set this to `False` then I will have two things with an index of 0 – and I don’t want that!\n"
   ]
  },
  {
   "cell_type": "markdown",
   "id": "1e7b2458",
   "metadata": {},
   "source": [
    "### Summary \n",
    "\n",
    "In this chapter we’ve explored:\n",
    "* Exploring our Data\n",
    "* Sorting our Data\n",
    "* Selecting our Data\n",
    "* Filtering our Data\n",
    "* Creating new columns of Data\n",
    "* Merging Data\n"
   ]
  },
  {
   "cell_type": "markdown",
   "id": "f8b53e81",
   "metadata": {},
   "source": [
    "<a id='merge'></a>\n",
    "<hr style=\"width:100%;height:4px;border-width:0;color:gray;background-color:#003d59; opacity:1\"> "
   ]
  },
  {
   "cell_type": "markdown",
   "id": "1e77fb3a",
   "metadata": {},
   "source": [
    "## Exercise \n",
    "\n",
    "Look at the dimensions of the `titanic` DataFrame.\n",
    "\n",
    "Use shape, then try returning the number of columns and rows individually."
   ]
  },
  {
   "cell_type": "code",
   "execution_count": null,
   "id": "61d36cfd",
   "metadata": {},
   "outputs": [],
   "source": []
  },
  {
   "cell_type": "markdown",
   "id": "bd32e7d1",
   "metadata": {},
   "source": [
    "Look at the data types of the `titanic` DataFrame."
   ]
  },
  {
   "cell_type": "code",
   "execution_count": null,
   "id": "17b13af8",
   "metadata": {},
   "outputs": [],
   "source": []
  },
  {
   "cell_type": "markdown",
   "id": "6deba76c",
   "metadata": {},
   "source": [
    "Print the column names"
   ]
  },
  {
   "cell_type": "code",
   "execution_count": null,
   "id": "2e0ccec9",
   "metadata": {},
   "outputs": [],
   "source": []
  },
  {
   "cell_type": "markdown",
   "id": "07b1ad4f",
   "metadata": {},
   "source": [
    "Sort the `titanic` DataFrame by the `age` column in descending order."
   ]
  },
  {
   "cell_type": "code",
   "execution_count": null,
   "id": "8d245bb7",
   "metadata": {},
   "outputs": [],
   "source": []
  },
  {
   "cell_type": "markdown",
   "id": "1cbc55a2",
   "metadata": {},
   "source": [
    "Sort the `titanic` DataFrame by the `age` and `sex` column"
   ]
  },
  {
   "cell_type": "code",
   "execution_count": null,
   "id": "7ddfd450",
   "metadata": {},
   "outputs": [],
   "source": []
  },
  {
   "cell_type": "markdown",
   "id": "d4e91ff6",
   "metadata": {},
   "source": [
    "Select the `name, sex, age` and `survived` column from the `titanic` DataFrame."
   ]
  },
  {
   "cell_type": "code",
   "execution_count": null,
   "id": "1a8dc669",
   "metadata": {},
   "outputs": [],
   "source": []
  },
  {
   "cell_type": "markdown",
   "id": "4598a3b3",
   "metadata": {},
   "source": [
    "Using `marvel_left` and `marvel_right` perform an outer join using the column `name` "
   ]
  },
  {
   "cell_type": "code",
   "execution_count": null,
   "id": "328cb24b",
   "metadata": {},
   "outputs": [],
   "source": []
  }
 ],
 "metadata": {
  "kernelspec": {
   "display_name": "Python 3 (ipykernel)",
   "language": "python",
   "name": "python3"
  },
  "language_info": {
   "codemirror_mode": {
    "name": "ipython",
    "version": 3
   },
   "file_extension": ".py",
   "mimetype": "text/x-python",
   "name": "python",
   "nbconvert_exporter": "python",
   "pygments_lexer": "ipython3",
   "version": "3.9.7"
  }
 },
 "nbformat": 4,
 "nbformat_minor": 5
}
