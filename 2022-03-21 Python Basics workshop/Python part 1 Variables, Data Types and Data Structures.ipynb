{
 "cells": [
  {
   "cell_type": "markdown",
   "id": "64e6b27a",
   "metadata": {},
   "source": [
    "## Variables, Data Types and Data Structures\n",
    "\n",
    "Follow along with the code by running cells as you encounter them. \n",
    "\n",
    "*Chapter  Overview and Learning Objectives*:\n",
    "* Variables and naming objects\n",
    "* Common Data Types ( `Int`, `Float`, `Str`, `Bool` ) and how to convert them\n",
    "* Objects and Classes – including `lists` , `tuples` and `dictionaries`\n",
    "* How to select items (indexing) from our common objects\n",
    "* A basic introduction to functions, methods and attributes\n",
    "* A basic introduction to the Pandas package, and the Series and DataFrame objects.\n",
    "* How to access help\n",
    "\n"
   ]
  },
  {
   "cell_type": "markdown",
   "id": "e97a9c08",
   "metadata": {},
   "source": [
    "<a id='help'></a>\n",
    "<hr style=\"width:100%;height:4px;border-width:0;color:gray;background-color:#003d59; opacity:1\"> "
   ]
  },
  {
   "cell_type": "markdown",
   "id": "7658bc9f",
   "metadata": {},
   "source": [
    "## Variables\n",
    "\n",
    "Variables are words and numbers that act like labels; a reference to an object that lives in memory. \n",
    "\n",
    "Without this variable we can’t “find” the object again in memory and won’t be able to use it."
   ]
  },
  {
   "cell_type": "code",
   "execution_count": null,
   "id": "8e02d818",
   "metadata": {},
   "outputs": [],
   "source": [
    "x = 4 + 3"
   ]
  },
  {
   "cell_type": "code",
   "execution_count": null,
   "id": "1310cd5b",
   "metadata": {},
   "outputs": [],
   "source": [
    "x"
   ]
  },
  {
   "cell_type": "markdown",
   "id": "013f8aac",
   "metadata": {},
   "source": [
    "Jupyter notebook will only print one output per cell."
   ]
  },
  {
   "cell_type": "code",
   "execution_count": null,
   "id": "014e6613",
   "metadata": {},
   "outputs": [],
   "source": [
    "x = 4 + 3\n",
    "y = \"Hello\"\n",
    "\n",
    "x\n",
    "y"
   ]
  },
  {
   "cell_type": "markdown",
   "id": "ec592765",
   "metadata": {},
   "source": [
    "To print both, use the following notation"
   ]
  },
  {
   "cell_type": "code",
   "execution_count": null,
   "id": "3718336e",
   "metadata": {},
   "outputs": [],
   "source": [
    "print(x,y)"
   ]
  },
  {
   "cell_type": "markdown",
   "id": "c8b657ed",
   "metadata": {},
   "source": [
    "*You can add text as well*"
   ]
  },
  {
   "cell_type": "code",
   "execution_count": null,
   "id": "88071778",
   "metadata": {},
   "outputs": [],
   "source": [
    "print(y, \"I am\", x, \"years old!\")"
   ]
  },
  {
   "cell_type": "markdown",
   "id": "e507b0ba",
   "metadata": {},
   "source": [
    "<a id='help'></a>\n",
    "<hr style=\"width:100%;height:4px;border-width:0;color:gray;background-color:#003d59; opacity:1\"> "
   ]
  },
  {
   "cell_type": "markdown",
   "id": "1a27d021",
   "metadata": {},
   "source": [
    "## Naming conventions"
   ]
  },
  {
   "cell_type": "markdown",
   "id": "94e4c897",
   "metadata": {},
   "source": [
    "Choosing sensible names saves time and energy later, when you try and remember what you've called something.\n",
    "\n",
    "Clever naming allows you to figure out what an object contains without having to inspect it.\n",
    "\n",
    "A variable name:\n",
    "\n",
    "* Must start with a letter or an underscore\n",
    "* Can’t begin with a number\n",
    "* Only contain alphanumeric characters and underscores\n",
    "* Is case sensitive (MY_VARIABLE and my_variable and My_vArIaBle are treated independently)\n",
    "* Must not have hyphens\n",
    "\n",
    "Consistency is important – if you pick up your code after 6 months, or pass code on to your colleagues, using consistent names ensures your code works and improves the quality.\n",
    "\n",
    "``` python\n",
    "music_df  # The contents should be a DataFrame\n",
    "\n",
    "names_list # The contents should be a list\n",
    "\n",
    "```\n",
    "\n",
    "The following variable name will lead to an error. "
   ]
  },
  {
   "cell_type": "code",
   "execution_count": null,
   "id": "47b9fb40",
   "metadata": {},
   "outputs": [],
   "source": [
    "name-list = [\"Dan\", \"Mark\", \"Susan\"]"
   ]
  },
  {
   "cell_type": "code",
   "execution_count": null,
   "id": "cfb4929d",
   "metadata": {},
   "outputs": [],
   "source": [
    "name_list = [\"Dan\", \"Mark\", \"Susan\"]\n",
    "name_list"
   ]
  },
  {
   "cell_type": "markdown",
   "id": "c60b7370",
   "metadata": {},
   "source": [
    "To see what variables you've already declared, use:\n",
    "\n",
    "`%whos`"
   ]
  },
  {
   "cell_type": "code",
   "execution_count": null,
   "id": "0070eedb",
   "metadata": {},
   "outputs": [],
   "source": [
    "%whos"
   ]
  },
  {
   "cell_type": "markdown",
   "id": "2d0ffbe9",
   "metadata": {},
   "source": [
    "To delete variables, use \n",
    "`del`"
   ]
  },
  {
   "cell_type": "code",
   "execution_count": null,
   "id": "ff16fd62",
   "metadata": {
    "scrolled": false
   },
   "outputs": [],
   "source": [
    "del y\n",
    "%whos"
   ]
  },
  {
   "cell_type": "markdown",
   "id": "91f6d645",
   "metadata": {},
   "source": [
    "Trying to call variable y after it's deleted will lead to an error. "
   ]
  },
  {
   "cell_type": "code",
   "execution_count": null,
   "id": "0da3ae30",
   "metadata": {},
   "outputs": [],
   "source": [
    "y"
   ]
  },
  {
   "cell_type": "markdown",
   "id": "ac800558",
   "metadata": {},
   "source": [
    "<a id='help'></a>\n",
    "<hr style=\"width:100%;height:4px;border-width:0;color:gray;background-color:#003d59; opacity:1\"> "
   ]
  },
  {
   "cell_type": "markdown",
   "id": "1e30ac7b",
   "metadata": {},
   "source": [
    "## 1.0 Data types"
   ]
  },
  {
   "cell_type": "markdown",
   "id": "3fcf5f2d",
   "metadata": {},
   "source": [
    "### (1.1) Numeric\n",
    "\n",
    "**int** (plain integers) are positive or negative (or zero) whole numbers.\n",
    "\n",
    "**floats** are decimal numbers.\n",
    "\n",
    "Check the data type with `type`"
   ]
  },
  {
   "cell_type": "code",
   "execution_count": null,
   "id": "6bb6dd5a",
   "metadata": {},
   "outputs": [],
   "source": [
    "type(x)"
   ]
  },
  {
   "cell_type": "markdown",
   "id": "ec46713e",
   "metadata": {},
   "source": [
    "### (1.2) Strings\n",
    "\n",
    "Strings are sequences of character data. The type in Python is called **str**. \n",
    "\n",
    "Strings are contained within either 'single' or \"double\" quotation marks."
   ]
  },
  {
   "cell_type": "code",
   "execution_count": null,
   "id": "f6ac4efc",
   "metadata": {},
   "outputs": [],
   "source": [
    "print(type(\"Hello\"), type(\"This is a string\"), type('This string contains 5 words!'))"
   ]
  },
  {
   "cell_type": "markdown",
   "id": "beb48569",
   "metadata": {},
   "source": [
    "The choice between single and double quotes is up to the user.\n",
    "\n",
    "We recommend that if you’re creating strings that use apostrophes or single quote marks, use double quotes to open and close your string.\n",
    "\n",
    "The code below will provide an error message."
   ]
  },
  {
   "cell_type": "code",
   "execution_count": null,
   "id": "84e007c3",
   "metadata": {},
   "outputs": [],
   "source": [
    "print('Tom's phone')"
   ]
  },
  {
   "cell_type": "code",
   "execution_count": null,
   "id": "db5e78c2",
   "metadata": {},
   "outputs": [],
   "source": [
    "print(\"Tom's phone\")"
   ]
  },
  {
   "cell_type": "markdown",
   "id": "2ae7ec9c",
   "metadata": {},
   "source": [
    "### (1.3) Boolean\n",
    "\n",
    "Boolean values are sometimes called logical values in other languages. \n",
    "\n",
    "There are two values `True` and `False`. \n",
    "\n",
    "In Python they must be spelt out fully and have a capital first letter. They are **not** text values; so do **not** require quote marks. They are a reserved word, and so are displayed in bold green text.\n",
    "\n",
    "As we’ll see later Python often evaluates expressions in a Boolean context; something is either “true” or “false”.\n",
    "\n",
    "`True` has the value of 1 and `False` has the value of 0.\n"
   ]
  },
  {
   "cell_type": "code",
   "execution_count": null,
   "id": "ba5a44f3",
   "metadata": {},
   "outputs": [],
   "source": [
    "print(type(True), type(False))"
   ]
  },
  {
   "cell_type": "markdown",
   "id": "dc0ea1d2",
   "metadata": {},
   "source": [
    "### Type conversion\n",
    "\n",
    "* `int()` converts things to an integer,\n",
    "* `float()` converts things to a float (n.b any numbers after the decimal are removed; this is not rounding behaviour! round(5.7, 0) will round to nearest whole number.\n",
    "* `str()` converts things to a string."
   ]
  },
  {
   "cell_type": "code",
   "execution_count": null,
   "id": "c842aa81",
   "metadata": {},
   "outputs": [],
   "source": [
    "print(float(3), int(5.7), str(3))"
   ]
  },
  {
   "cell_type": "markdown",
   "id": "71f36c96",
   "metadata": {},
   "source": [
    "<a id='help'></a>\n",
    "<hr style=\"width:100%;height:4px;border-width:0;color:gray;background-color:#003d59; opacity:1\"> "
   ]
  },
  {
   "cell_type": "markdown",
   "id": "09ba0cb4",
   "metadata": {},
   "source": [
    "## 2.0 Data Structures\n",
    "\n",
    "So far we have only stored one piece of information; where as we will usually want to store many different pieces. These data structures provide us with a particular way of organising data so it can be accessed efficiently."
   ]
  },
  {
   "cell_type": "markdown",
   "id": "92962012",
   "metadata": {},
   "source": [
    "### (2.1) Lists\n",
    "\n",
    "A list holds a collection of items. \n",
    "\n",
    "Lists are **mutable**, we can change items in them and add or delete items,\n",
    "\n",
    "We create lists using square brackets `[ ]` and separate each item with a comma.\n",
    "\n",
    "Lists\n",
    "* Are the most versatile of the built-in data structures\n",
    "* Can hold any sequence of objects\n",
    "* Can hold mixed objects (like strings, integers and Booleans together)\n",
    "* Are mutable (can be changed)"
   ]
  },
  {
   "cell_type": "code",
   "execution_count": null,
   "id": "ad909461",
   "metadata": {},
   "outputs": [],
   "source": [
    "# Create my list\n",
    "\n",
    "the_pythons = [\"Chapman\", \"Idle\", \"Gillam\", \"Jones\", \"Cleese\", \"Palin\"]\n",
    "\n",
    "# Display my list\n",
    "\n",
    "the_pythons"
   ]
  },
  {
   "cell_type": "markdown",
   "id": "7bd775e6",
   "metadata": {},
   "source": [
    "We can also create lists using the `list()` function."
   ]
  },
  {
   "cell_type": "code",
   "execution_count": null,
   "id": "7257f14e",
   "metadata": {},
   "outputs": [],
   "source": [
    "team = \"Pragya\", \"Hannah\", \"Katherine\"\n",
    "team_list = list(team)\n",
    "team_list"
   ]
  },
  {
   "cell_type": "markdown",
   "id": "8091e8fa",
   "metadata": {},
   "source": [
    "### (2.2) Tuples\n",
    "Tuples are similar to lists; the two main differences are:\n",
    "\n",
    "* Tuples are immutable (unchangeable)\n",
    "* Tuples are created with round brackets `( )`"
   ]
  },
  {
   "cell_type": "code",
   "execution_count": null,
   "id": "b53b9430",
   "metadata": {},
   "outputs": [],
   "source": [
    "# Create my tuple\n",
    "\n",
    "days_of_the_week = (\"Monday\", \"Tuesday\", \"Wednesday\", \"Thursday\", \"Friday\", \"Saturday\", \"Sunday\")\n",
    "\n",
    "#print out my tuple\n",
    "\n",
    "days_of_the_week"
   ]
  },
  {
   "cell_type": "markdown",
   "id": "481bdccf",
   "metadata": {},
   "source": [
    "We can also create tuples using the `tuple()` function. "
   ]
  },
  {
   "cell_type": "code",
   "execution_count": null,
   "id": "71f005e1",
   "metadata": {},
   "outputs": [],
   "source": [
    "team = \"Pragya\", \"Hannah\", \"Katherine\"  # This automatically is a tuple data type\n",
    "team_tuple = tuple(team) # But we can use the function too\n",
    "team_tuple"
   ]
  },
  {
   "cell_type": "markdown",
   "id": "99a5dac3",
   "metadata": {},
   "source": [
    "When we say something is mutable or immutable we mean changing the contents programmatically. There are **methods** we’ll see later where we can add or remove a value from a list; like `.append()`, `.extend()` or `.pop()`\n",
    "\n",
    "See https://www.w3schools.com/python/python_ref_list.asp for more methods. "
   ]
  },
  {
   "cell_type": "markdown",
   "id": "76af363b",
   "metadata": {},
   "source": [
    "### (2.3) Dictionaries "
   ]
  },
  {
   "cell_type": "markdown",
   "id": "744ab630",
   "metadata": {},
   "source": [
    "Dictionaries also store a collection of objects.\n",
    "\n",
    "Whereas lists and tuples have an order (an index); Dictionaries are unordered.\n",
    "\n",
    "\n",
    "Dictionaries:\n",
    "* Mutable (can be altered)\n",
    "* Can contain lists and other (nested) dictionaries.\n",
    "\n",
    "Dictionaries are created using curly braces `{ }`\n",
    "\n",
    "Dictionaries contain key value pairs.\n",
    "\n",
    "**Keys** are usually integers or strings (an immutable data type)\n",
    "\n",
    "**Values** can be any type of object\n",
    "\n",
    "Keys and values are separated by a colon ( `:` )\n"
   ]
  },
  {
   "cell_type": "code",
   "execution_count": null,
   "id": "29c28a60",
   "metadata": {},
   "outputs": [],
   "source": [
    "# Create my dictionary\n",
    "\n",
    "brian_information = {\"name\": \"Brian Cohen\",\n",
    "                     \"occupation\": [\"messiah \", \"very naughty boy\"],  # more than one value gets stored in a list\n",
    "                     \"enemy\": \"Pontius Pilate\",\n",
    "                     \"outlook\": \"Look on the bright side of life\"}\n",
    "\n",
    "# Print the dictionary\n",
    "\n",
    "brian_information"
   ]
  },
  {
   "cell_type": "code",
   "execution_count": null,
   "id": "5dbfe219",
   "metadata": {},
   "outputs": [],
   "source": [
    "# Example - Call the values of a key in a dictionary\n",
    "brian_information['occupation']"
   ]
  },
  {
   "cell_type": "markdown",
   "id": "15138807",
   "metadata": {},
   "source": [
    "### Indexing \n",
    "Each item within our list (or tuple) has an index. This relates to it’s position in the list.\n",
    "\n",
    "Python starts indexing at 0 – which may be different to some other languages you’ve used. (Think of it as starting on the ground floor of a building, then going up to the first floor).\n",
    "\n",
    "In order to return the element in the list we can simply give the object name, then the index of the item we want to return within square brackets.\n",
    "\n",
    "The code below will return the value `Jones`"
   ]
  },
  {
   "cell_type": "code",
   "execution_count": null,
   "id": "59fba8d3",
   "metadata": {},
   "outputs": [],
   "source": [
    "the_pythons = [\"Chapman\", \"Idle\", \"Gillam\", \"Jones\", \"Cleese\", \"Palin\"]\n",
    "\n",
    "the_pythons[3]"
   ]
  },
  {
   "cell_type": "markdown",
   "id": "2acf9e70",
   "metadata": {},
   "source": [
    "We can also use what’s known as negative indexing.\n",
    "\n",
    "The code in the next cell will return the same values. This can be useful if you want to return the last element; without knowing how many elements there are in your object. **caution** R uses negative indexing to delete elements! Use caution of trying this with other languages."
   ]
  },
  {
   "cell_type": "code",
   "execution_count": null,
   "id": "e3d7419b",
   "metadata": {},
   "outputs": [],
   "source": [
    "print(the_pythons[0], the_pythons[-6])"
   ]
  },
  {
   "cell_type": "markdown",
   "id": "789bd341",
   "metadata": {},
   "source": [
    "If we want to select more than one sequential item we can use a colon ( `:` ) between the first index position (inclusive) and the last index position (exclusive).\n",
    "\n",
    "It is important to remember that the last index is **exclusive** in this case, it will not be included."
   ]
  },
  {
   "cell_type": "code",
   "execution_count": null,
   "id": "12c4a2b0",
   "metadata": {},
   "outputs": [],
   "source": [
    "the_pythons[1:3]"
   ]
  },
  {
   "cell_type": "code",
   "execution_count": null,
   "id": "64d13a55",
   "metadata": {},
   "outputs": [],
   "source": [
    "the_pythons[3:]"
   ]
  },
  {
   "cell_type": "markdown",
   "id": "d716cae6",
   "metadata": {},
   "source": [
    "These methods also work for tuples.\n",
    "\n",
    "Using the `days_of_the_week` tuple we declared earlier, below I return, Wednesday, the week days and the weekend days."
   ]
  },
  {
   "cell_type": "code",
   "execution_count": null,
   "id": "b7d30e6e",
   "metadata": {},
   "outputs": [],
   "source": [
    "print(\"The element at index 2 is\", days_of_the_week[2])\n",
    "print(\"The weekdays are:\", days_of_the_week[:5])\n",
    "print(\"The weekend days are:\", days_of_the_week[-2: ])"
   ]
  },
  {
   "cell_type": "markdown",
   "id": "c8298d8d",
   "metadata": {},
   "source": [
    "There's no direct inbuilt way of accessing non sequential items. In other languages like R this is simple to do; but not so much in python. \n",
    "\n",
    "We can use a function called `itemgetter` to do this This takes the indexes we want to return - 2 and 5 and then the list."
   ]
  },
  {
   "cell_type": "code",
   "execution_count": null,
   "id": "8429a88a",
   "metadata": {},
   "outputs": [],
   "source": [
    "from operator import itemgetter\n",
    "itemgetter(2, 5)(the_pythons)"
   ]
  },
  {
   "cell_type": "markdown",
   "id": "2eeed531",
   "metadata": {},
   "source": [
    "## Exercise \n",
    "\n",
    "Create a list and store five shopping items in the list. Give the list an appropriate name. "
   ]
  },
  {
   "cell_type": "code",
   "execution_count": null,
   "id": "d9adf126",
   "metadata": {},
   "outputs": [],
   "source": []
  },
  {
   "cell_type": "markdown",
   "id": "f28349a5",
   "metadata": {},
   "source": [
    "Create another list with corresponding numbers of items bought. Give the list an appropriate name. "
   ]
  },
  {
   "cell_type": "code",
   "execution_count": null,
   "id": "918a2e48",
   "metadata": {},
   "outputs": [],
   "source": []
  },
  {
   "cell_type": "markdown",
   "id": "2d92ef18",
   "metadata": {},
   "source": [
    "Access the second item in the list "
   ]
  },
  {
   "cell_type": "code",
   "execution_count": null,
   "id": "e4eb582c",
   "metadata": {},
   "outputs": [],
   "source": []
  },
  {
   "cell_type": "markdown",
   "id": "c668569c",
   "metadata": {},
   "source": [
    "Print the second to fifth item (inclusive) in the list"
   ]
  },
  {
   "cell_type": "code",
   "execution_count": null,
   "id": "aa6ff2ef",
   "metadata": {},
   "outputs": [],
   "source": []
  },
  {
   "cell_type": "markdown",
   "id": "33bea838",
   "metadata": {},
   "source": [
    "<a id='help'></a>\n",
    "<hr style=\"width:100%;height:4px;border-width:0;color:gray;background-color:#003d59; opacity:1\"> "
   ]
  },
  {
   "cell_type": "markdown",
   "id": "92f02b93",
   "metadata": {},
   "source": [
    "## 3.0 Accessing Functions, Methods and Attributes"
   ]
  },
  {
   "cell_type": "markdown",
   "id": "2361020a",
   "metadata": {},
   "source": [
    "Unlike other programming languages we can perform actions, or get information from Python in a variety of ways\n",
    "* Functions\n",
    "* Methods\n",
    "* Attributes\n"
   ]
  },
  {
   "cell_type": "markdown",
   "id": "59708da0",
   "metadata": {},
   "source": [
    "### (3.1) Functions\n",
    "Functions are pieces of code that are called by name. They are a set of statements that take inputs, do something to it, and produce an output. The concept is that we can perform a commonly done or repeated task by just calling the function.\n",
    "\n",
    "We can create our own user defined functions. Information on how to do this can be found in the course \"Python: Loops, Control Flow and Functions\" avalible for self directed learning on the Learning Hub.\n",
    "\n",
    "For now let’s have a look at some of the inbuilt functions in Python. You can find out what inbuilt functions are available at these links - for [Python 3.3]( https://docs.python.org/3.3/library/functions.html) or [Python 3.8](https://docs.python.org/3.8/library/functions.html) \n",
    "\n",
    "We’ve already seen \n",
    "* `type()`  - tells us the data type of what we put within the brackets. \n",
    "* `int()`, `float()`, `str()` - for type conversion"
   ]
  },
  {
   "cell_type": "markdown",
   "id": "95be4212",
   "metadata": {},
   "source": [
    "### (3.2) Methods and attributes\n",
    "\n",
    "Methods and attributes relate to the objects that we perform them on.\n",
    "\n",
    "Each object has it’s own methods and attributes that relate to that object.\n",
    "\n",
    "**Methods** we've seen include `.append()`, `.extend()` or `.pop()`. These have mandatory parameters. \n",
    "\n",
    "We can use the method `.sort()` on a `parrots` list we create. `sort()` has no mandatory parameters (brackets can be left empty).\n",
    "\n",
    "* **Firstly** we tell python the object we want to work on – here by giving the variable/identifier `parrots`.\n",
    "* **Secondly** we use the full stop or “dot notation”\n",
    "* **Thirdly** we call our method – here ` sort` and finish it with round brackets"
   ]
  },
  {
   "cell_type": "code",
   "execution_count": null,
   "id": "baf44a0e",
   "metadata": {},
   "outputs": [],
   "source": [
    "parrots = [\"Cockatoo\" , \"Macaw\", \"Parakeet\", \"Lorikeet\", \"Norwegian Blue\", \"Conure\"]\n",
    "\n",
    "# Use the sort method to sort the list\n",
    "parrots.sort()\n",
    "\n",
    "# Print out the parrots list to see what's happened.\n",
    "parrots"
   ]
  },
  {
   "cell_type": "code",
   "execution_count": null,
   "id": "a7fa796c",
   "metadata": {},
   "outputs": [],
   "source": [
    "team_list"
   ]
  },
  {
   "cell_type": "code",
   "execution_count": null,
   "id": "664d84fe",
   "metadata": {},
   "outputs": [],
   "source": [
    "# the append() method adds an element at the end of the list\n",
    "team_list.append(\"Beth\")\n",
    "team_list"
   ]
  },
  {
   "cell_type": "code",
   "execution_count": null,
   "id": "2dff4d20",
   "metadata": {},
   "outputs": [],
   "source": [
    "# the pop() method removes the element at the specified position/ index\n",
    "team_list.pop(2)\n",
    "team_list"
   ]
  },
  {
   "cell_type": "code",
   "execution_count": null,
   "id": "7271fd95",
   "metadata": {},
   "outputs": [],
   "source": [
    "#The extend() method adds the specified list elements (or any iterable) to the end of the current list.\n",
    "fruits = ['apple', 'banana', 'cherry']\n",
    "team_list.extend(fruits)\n",
    "team_list"
   ]
  },
  {
   "cell_type": "markdown",
   "id": "094a5ffb",
   "metadata": {},
   "source": [
    "Sometimes we’ll want to find something out about an object. If something is descriptive about an object, we’ll often use **attributes** to return information.\n",
    "\n",
    "Attributes are called like methods, using dot notation. However, they do *not* have round brackets.\n",
    "e.g.\n",
    "\n",
    "`my_dataframe.shape` returns the number of rows and columns in a dataframe\n",
    "\n",
    "### What methods and attributes can I use?\n",
    "\n",
    "To find the methods and attributes for an object you can use"
   ]
  },
  {
   "cell_type": "code",
   "execution_count": null,
   "id": "49c3466e",
   "metadata": {},
   "outputs": [],
   "source": [
    "dir(team_list)"
   ]
  },
  {
   "cell_type": "markdown",
   "id": "e96d2421",
   "metadata": {},
   "source": [
    "This function returns the attributes and methods of a specified object, here a list.\n",
    "\n",
    "It doesn’t tell you if something is an attribute or a property, and it doesn’t give you any values to pass to the methods; but can be useful to see if something you want to do has a function or method that looks about right."
   ]
  },
  {
   "cell_type": "markdown",
   "id": "2bc83501",
   "metadata": {},
   "source": [
    "<a id='pandas_objects'></a>\n",
    "<hr style=\"width:100%;height:4px;border-width:0;color:gray;background-color:#003d59; opacity:1\"> "
   ]
  },
  {
   "cell_type": "markdown",
   "id": "7fb39082",
   "metadata": {},
   "source": [
    "## (4.0) Pandas objects\n",
    "\n",
    "`pandas` is a Python library originally written by Wes McKinney, and is the most preferred, most used tool when data wrangling tabular data within Python.\n",
    "\n",
    "`pandas` is a Python library, which are often refered to as \"packages\"."
   ]
  },
  {
   "cell_type": "markdown",
   "id": "2ca9e0f7",
   "metadata": {},
   "source": [
    "### Packages\n",
    "\n",
    "Packages are a collection of functions, objects and compiled code which are stored in a “library” of code within Python.\n",
    "\n",
    "For installing packages that are not included within the Anaconda distribution there are a few options. The most popular being `pip` and `conda`.  Python packages can be found on PyPi [(the Python Package Index)]( https://pypi.org/), as well as being shared by colleagues or downloaded from the internet. Caution should be taken when using the latter, as there could be malicious software in the bundle.\n",
    "\n",
    "Other government departments have their own rules regarding installation of packages, please contact your IT department or Data Science department for guidance.\n"
   ]
  },
  {
   "cell_type": "markdown",
   "id": "f5c7ff95",
   "metadata": {},
   "source": [
    "### Importing pandas\n",
    "\n",
    "In order to use the functionality of the Pandas package within our Python code; we first need to import it.\n",
    "\n",
    "We need to import our packages in every script we write.\n",
    "\n",
    "You should always import the packages you’re going to use at the very **top** of your script.\n",
    "\n",
    "To use the functions within a package we need to import it by using an import statement:"
   ]
  },
  {
   "cell_type": "code",
   "execution_count": null,
   "id": "44c58236",
   "metadata": {},
   "outputs": [],
   "source": [
    "import pandas as pd"
   ]
  },
  {
   "cell_type": "markdown",
   "id": "0e593fcc",
   "metadata": {},
   "source": [
    "When we import a package we don't get any feedback it's worked. The cell will change from a green to blue, and the line number will increase.\n",
    "\n",
    "* We start by using the key word `import` - this is a reserved word in Python, you can see the syntax highlighting, it is now bold and green.\n",
    "\n",
    "\n",
    "* We then give the package name\n",
    "\n",
    "\n",
    "* The keyword `as` allows us to give a nickname to the package\n",
    "\n",
    "\n",
    "* Which here is `pd`\n",
    "\n",
    "We don’t have to give nicknames to packages; however, it’s a very common standard; that saves us some typing. We’ll often need to reference the package containing the function; e.g `pd.Series()` - which is much faster than `pandas.Series`().\n",
    "\n",
    "All packages have versions; this allows code to be updated, extended or modified as time goes on.\n",
    "\n",
    "\n",
    "For reproducibility purposes, as well as searching for help it can be important to know which version of a package you’re using."
   ]
  },
  {
   "cell_type": "code",
   "execution_count": null,
   "id": "eeccab15",
   "metadata": {},
   "outputs": [],
   "source": [
    "pd.__version__ \n",
    "\n",
    "# Note here there's TWO underscores before *and* after version."
   ]
  },
  {
   "cell_type": "markdown",
   "id": "78aef765",
   "metadata": {},
   "source": [
    "Pandas gives us two new object types.\n",
    "\n",
    "### (4.1) Series\n",
    "\n",
    "`Series` are:\n",
    "\n",
    "* One dimensional arrays\n",
    "* Act like columns in a spreadsheet\n",
    "* Must have items of the same type (int, float or str)\n",
    "* Has a series index – defaults to start at 0\n",
    "\n",
    "\n",
    "Series have a large number of special methods and attributes associated with them.\n"
   ]
  },
  {
   "cell_type": "code",
   "execution_count": null,
   "id": "01744795",
   "metadata": {},
   "outputs": [],
   "source": [
    "# I'm manually creating a Series here - we'll talk about why we don't teach this in a second.\n",
    "\n",
    "python_movies = pd.Series([\"And Now For Something Completely Different\",\n",
    "                           \"Monty Python and the Holy Grail\",\n",
    "                           \"Monty Python's Life of Brian\",\n",
    "                           \"Monty Python Live at the Hollywood Bowl\",\n",
    "                           \"Monty Python's Meaning of Life\",\n",
    "                           \"Monty Python Live (Mostly)\"])\n",
    "\n",
    "\n",
    "# Display the series below the cell.\n",
    "\n",
    "python_movies\n"
   ]
  },
  {
   "cell_type": "markdown",
   "id": "a8d6b515",
   "metadata": {},
   "source": [
    "### (4.2) Dataframes"
   ]
  },
  {
   "cell_type": "markdown",
   "id": "240ce55d",
   "metadata": {},
   "source": [
    "`DataFrames` are\n",
    "\n",
    "* A two dimensional version of the series object\n",
    "* Like a whole spreadsheet\n",
    "* Essentially a collection of series objects (one series per column)\n",
    "\n",
    "where\n",
    "\n",
    "* A column can only have one data type\n",
    "* Each column can have a different data type\n",
    "* The dimensions are labelled similarly to a series object\n",
    "\t* **index** refers to the row labels – and defaults to starting at 0\n",
    "\t* **columns** refers to the column labels – or headers.\n",
    "\n",
    "The `DataFrames` will have some of the same methods as `Series` and some different."
   ]
  },
  {
   "cell_type": "code",
   "execution_count": null,
   "id": "34c6b610",
   "metadata": {},
   "outputs": [],
   "source": [
    "# First I'm setting up some Series of data to be my columns.\n",
    "# Note these are in the same order as python_movies\n",
    "# python_movies already exists from my previous cell so I can recycle it\n",
    "\n",
    "python_live = pd.Series([False, False, False, False, False, True])\n",
    "python_year = pd.Series([1971, 1975, 1979, 1982, 1983, 2014])\n",
    "\n",
    "# Now I'll create my Dataframe\n",
    "\n",
    "python_movies_df = pd.DataFrame({\"film_name\": python_movies,\n",
    "                                 \"live\": python_live, \n",
    "                                 \"year\": python_year})\n",
    "\n",
    "# This is passing a dictionary { } to the pd.DataFrame command.\n",
    "# In the dictionary I have each column header (as a string) and then the Series data.\n",
    "# These are seperated by a colon - like we saw earlier.\n",
    " \n",
    "# then print out the Data Frame\n",
    "\n",
    "python_movies_df"
   ]
  },
  {
   "cell_type": "markdown",
   "id": "a7269b7d",
   "metadata": {},
   "source": [
    "## Exercise \n",
    "\n",
    "Create a dataframe with your shopping list and number of items bought list. "
   ]
  },
  {
   "cell_type": "code",
   "execution_count": null,
   "id": "711d245e",
   "metadata": {},
   "outputs": [],
   "source": []
  },
  {
   "cell_type": "markdown",
   "id": "b20453a0",
   "metadata": {},
   "source": [
    "<a id='help'></a>\n",
    "<hr style=\"width:100%;height:4px;border-width:0;color:gray;background-color:#003d59; opacity:1\"> "
   ]
  },
  {
   "cell_type": "markdown",
   "id": "372ce7b4",
   "metadata": {},
   "source": [
    "## Accessing Help"
   ]
  },
  {
   "cell_type": "code",
   "execution_count": null,
   "id": "1d14e981",
   "metadata": {},
   "outputs": [],
   "source": [
    "python_movies_df.sample()"
   ]
  },
  {
   "cell_type": "markdown",
   "id": "34a2da0d",
   "metadata": {},
   "source": [
    "By default `.sample()` returns us one row of a DataFrame.\n",
    "\n",
    "What if I want to change the behaviour to return multiple rows? To find out how to do this I could search the function on Google.\n",
    "\n",
    "However it’s easier to look in the documentation contained within Python.\n",
    "\n",
    "We can do this in a few different ways - by using the function `help()` on our code"
   ]
  },
  {
   "cell_type": "code",
   "execution_count": null,
   "id": "f5701c47",
   "metadata": {},
   "outputs": [],
   "source": [
    "# Run this Cell to show the help\n",
    "help(python_movies_df.sample)"
   ]
  },
  {
   "cell_type": "markdown",
   "id": "7f32cf83",
   "metadata": {},
   "source": [
    "The help documentation has a few different sections. As the contents of these are defined by the creator of the function some may have more information in them than others.\n",
    "\n",
    "This one has:\n",
    "\n",
    "`Signature` - the text we use to call the function and the parameters (think options) and arguments (default values) inside of the brackets. Here we have several; the paramater `n = ` contols the number of rows returned and parameter called `replace = ` and the default argument for this is `False`.\n",
    "\n",
    "Underneath this tells us the `Docstring` – which is information about the function.\n",
    "\n",
    "Thirdly `Paramaters` gives us more information about the paramaters (options) we can set within this function.\n",
    "\n",
    "Going back to our `replace = ` parameter, we can see that this takes a `Boolean` argument (`True` or `False`) and that it controls if we sample with or without replacement.\n",
    "\n",
    "At the bottom we have `Returns` which tells us what the function returns; and underneath this we have `Examples` - not all functions will have this level of detail in the docstring.\n",
    "\n",
    "Now we know other parameters we can set for `python_movies_df.sample()` let’s try returning a sample of 4 rows, and turn `replace = ` to `True`"
   ]
  },
  {
   "cell_type": "code",
   "execution_count": null,
   "id": "261d4d7f",
   "metadata": {},
   "outputs": [],
   "source": [
    "python_movies_df.sample(n=4 , replace=True)"
   ]
  },
  {
   "cell_type": "markdown",
   "id": "180961a5",
   "metadata": {},
   "source": [
    "`.sample()` is a fairly simple method – and doesn’t have many parameters and arguments.\n",
    "\n",
    "Depending on what your function does depends on how many arguments and parameters there may be.\n",
    "\n",
    "Have a look at the Docstring below for `pd.read_csv()` which we use for reading in CSV files into Python."
   ]
  },
  {
   "cell_type": "code",
   "execution_count": null,
   "id": "2fb55fe2",
   "metadata": {},
   "outputs": [],
   "source": [
    "help(pd.read_csv)"
   ]
  },
  {
   "cell_type": "markdown",
   "id": "b93a8e16",
   "metadata": {},
   "source": [
    "## Summary\n",
    "\n",
    "In this chapter we’ve explored:\n",
    "* Variables and naming objects\n",
    "* Common Data Types ( `Int`, `Float`, `Str`, `Bool` ) and how to convert them\n",
    "* Objects and Classes – including `lists` , `tuples` and `dictionaries`\n",
    "* How to select items (indexing) from our common objects\n",
    "* A basic introduction to functions, methods and attributes\n",
    "* A basic introduction to the Pandas package, and the Series and DataFrame objects.\n",
    "* How to access help\n"
   ]
  }
 ],
 "metadata": {
  "kernelspec": {
   "display_name": "Python 3 (ipykernel)",
   "language": "python",
   "name": "python3"
  },
  "language_info": {
   "codemirror_mode": {
    "name": "ipython",
    "version": 3
   },
   "file_extension": ".py",
   "mimetype": "text/x-python",
   "name": "python",
   "nbconvert_exporter": "python",
   "pygments_lexer": "ipython3",
   "version": "3.9.7"
  }
 },
 "nbformat": 4,
 "nbformat_minor": 5
}
